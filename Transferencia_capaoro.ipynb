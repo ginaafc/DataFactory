{
 "cells": [
  {
   "cell_type": "code",
   "execution_count": 0,
   "metadata": {
    "application/vnd.databricks.v1+cell": {
     "cellMetadata": {
      "byteLimit": 2048000,
      "rowLimit": 10000
     },
     "inputWidgets": {},
     "nuid": "008d74c3-e752-492a-a9d8-297edff3c0d4",
     "showTitle": false,
     "title": ""
    }
   },
   "outputs": [
    {
     "output_type": "display_data",
     "data": {
      "text/html": [
       "<style scoped>\n",
       "  .ansiout {\n",
       "    display: block;\n",
       "    unicode-bidi: embed;\n",
       "    white-space: pre-wrap;\n",
       "    word-wrap: break-word;\n",
       "    word-break: break-all;\n",
       "    font-family: \"Menlo\", \"Monaco\", \"Consolas\", \"Ubuntu Mono\", \"Source Code Pro\", monospace;\n",
       "    font-size: 13px;\n",
       "    color: #555;\n",
       "    margin-left: 4px;\n",
       "    line-height: 19px;\n",
       "  }\n",
       "</style>\n",
       "<div class=\"ansiout\">storageAccount: String = alissonfigueroa\n",
       "container: String = proyectofinal\n",
       "sasKey: String = ?sv=2022-11-02&amp;ss=bfqt&amp;srt=sco&amp;sp=rwdlacupyx&amp;se=2024-02-06T08:29:37Z&amp;st=2024-02-06T00:29:37Z&amp;spr=https&amp;sig=ulfx4fcDsqiy0RJIr0oe8Iu%2Be1Fltay%2FY4g%2B%2FPSXpDM%3D\n",
       "conf: String = fs.azure.sas.proyectofinal.alissonfigueroa.blob.core.windows.net\n",
       "res3: Boolean = true\n",
       "</div>"
      ]
     },
     "metadata": {
      "application/vnd.databricks.v1+output": {
       "addedWidgets": {},
       "arguments": {},
       "data": "<div class=\"ansiout\">storageAccount: String = alissonfigueroa\ncontainer: String = proyectofinal\nsasKey: String = ?sv=2022-11-02&amp;ss=bfqt&amp;srt=sco&amp;sp=rwdlacupyx&amp;se=2024-02-06T08:29:37Z&amp;st=2024-02-06T00:29:37Z&amp;spr=https&amp;sig=ulfx4fcDsqiy0RJIr0oe8Iu%2Be1Fltay%2FY4g%2B%2FPSXpDM%3D\nconf: String = fs.azure.sas.proyectofinal.alissonfigueroa.blob.core.windows.net\nres3: Boolean = true\n</div>",
       "datasetInfos": [],
       "metadata": {
        "isDbfsCommandResult": false
       },
       "removedWidgets": [],
       "type": "html"
      }
     },
     "output_type": "display_data"
    }
   ],
   "source": [
    "%scala\n",
    "val storageAccount=\"alissonfigueroa\"\n",
    "val container=\"proyectofinal\"\n",
    "val sasKey=\"?sv=2022-11-02&ss=bfqt&srt=sco&sp=rwdlacupyx&se=2024-02-06T08:29:37Z&st=2024-02-06T00:29:37Z&spr=https&sig=ulfx4fcDsqiy0RJIr0oe8Iu%2Be1Fltay%2FY4g%2B%2FPSXpDM%3D\"\n",
    "\n",
    "val conf = \"fs.azure.sas.\" + container + \".\" + storageAccount + \".blob.core.windows.net\"\n",
    "\n",
    "dbutils.fs.mount(source=\"wasbs://\" + container + \"@\" + storageAccount + \".blob.core.windows.net\", mountPoint=\"/mnt/\" + container, extraConfigs = Map(conf -> sasKey))"
   ]
  },
  {
   "cell_type": "code",
   "execution_count": 0,
   "metadata": {
    "application/vnd.databricks.v1+cell": {
     "cellMetadata": {
      "byteLimit": 2048000,
      "rowLimit": 10000
     },
     "inputWidgets": {},
     "nuid": "d71ee142-4fa7-4bfc-83d2-76b34ded0874",
     "showTitle": false,
     "title": ""
    }
   },
   "outputs": [],
   "source": [
    "#leer informacion\n",
    "dfSubCategoria=spark.read.parquet(\"/mnt/proyectofinal/capaplata/SubCategoria.parquet\")\n",
    "dfCategoria=spark.read.parquet(\"/mnt/proyectofinal/capaplata/Categoria.parquet\")\n",
    "dfProducto=spark.read.parquet(\"/mnt/proyectofinal/capaplata/Producto.parquet\")\n"
   ]
  },
  {
   "cell_type": "code",
   "execution_count": 0,
   "metadata": {
    "application/vnd.databricks.v1+cell": {
     "cellMetadata": {
      "byteLimit": 2048000,
      "rowLimit": 10000
     },
     "inputWidgets": {},
     "nuid": "482ed35c-bf58-46ca-91f7-9b9157028fad",
     "showTitle": false,
     "title": ""
    }
   },
   "outputs": [],
   "source": [
    "#vista temporal\n",
    "dfProducto.createOrReplaceTempView(\"Producto\")\n",
    "dfCategoria.createOrReplaceTempView(\"Categoria\")\n",
    "dfSubCategoria.createOrReplaceTempView(\"SubCategoria\")\n"
   ]
  },
  {
   "cell_type": "code",
   "execution_count": 0,
   "metadata": {
    "application/vnd.databricks.v1+cell": {
     "cellMetadata": {
      "byteLimit": 2048000,
      "implicitDf": true,
      "rowLimit": 10000
     },
     "inputWidgets": {},
     "nuid": "162b8b64-dedd-4c8c-a86c-22bb7c6bd2d2",
     "showTitle": false,
     "title": ""
    }
   },
   "outputs": [
    {
     "output_type": "display_data",
     "data": {
      "text/html": [
       "<style scoped>\n",
       "  .table-result-container {\n",
       "    max-height: 300px;\n",
       "    overflow: auto;\n",
       "  }\n",
       "  table, th, td {\n",
       "    border: 1px solid black;\n",
       "    border-collapse: collapse;\n",
       "  }\n",
       "  th, td {\n",
       "    padding: 5px;\n",
       "  }\n",
       "  th {\n",
       "    text-align: left;\n",
       "  }\n",
       "</style><div class='table-result-container'><table class='table-result'><thead style='background-color: white'><tr></tr></thead><tbody></tbody></table></div>"
      ]
     },
     "metadata": {
      "application/vnd.databricks.v1+output": {
       "addedWidgets": {},
       "aggData": [],
       "aggError": "",
       "aggOverflow": false,
       "aggSchema": [],
       "aggSeriesLimitReached": false,
       "aggType": "",
       "arguments": {},
       "columnCustomDisplayInfos": {},
       "data": [],
       "datasetInfos": [],
       "dbfsResultPath": null,
       "isJsonSchema": true,
       "metadata": {
        "dataframeName": null
       },
       "overflow": false,
       "plotOptions": {
        "customPlotOptions": {},
        "displayType": "table",
        "pivotAggregation": null,
        "pivotColumns": null,
        "xColumns": null,
        "yColumns": null
       },
       "removedWidgets": [],
       "schema": [],
       "type": "table"
      }
     },
     "output_type": "display_data"
    }
   ],
   "source": [
    "%sql\n",
    "\n",
    "CREATE OR REPLACE TEMP VIEW Fact_Producto AS\n",
    "SELECT P.Cod_Producto, P.Nombre AS NombreProducto,S.Nombre AS NombreSubcategoria, c.Nombre as NombreCategoria\n",
    "FROM Producto AS P\n",
    "JOIN Subcategoria AS S\n",
    "ON P.Cod_SubCategoria=S.Cod_SubCategoria\n",
    "JOIN categoria AS C\n",
    "ON S.Cod_Categoria=C.Cod_Categoria\n"
   ]
  },
  {
   "cell_type": "code",
   "execution_count": 0,
   "metadata": {
    "application/vnd.databricks.v1+cell": {
     "cellMetadata": {
      "byteLimit": 2048000,
      "rowLimit": 10000
     },
     "inputWidgets": {},
     "nuid": "134e0f71-6520-44ad-a6b6-c6750d7f1176",
     "showTitle": false,
     "title": ""
    }
   },
   "outputs": [],
   "source": [
    "dfProd=spark.table(\"Fact_Producto\")\n",
    "dfProd.write.mode(\"overwrite\").parquet(\"/mnt/proyectofinal/capaoro/Fact_Producto.parquet\")"
   ]
  },
  {
   "cell_type": "code",
   "execution_count": 0,
   "metadata": {
    "application/vnd.databricks.v1+cell": {
     "cellMetadata": {
      "byteLimit": 2048000,
      "rowLimit": 10000
     },
     "inputWidgets": {},
     "nuid": "7e627398-cbeb-4e88-ae4e-e1aec24066ab",
     "showTitle": false,
     "title": ""
    }
   },
   "outputs": [
    {
     "output_type": "stream",
     "name": "stdout",
     "output_type": "stream",
     "text": [
      "/mnt/proyectofinal has been unmounted.\n"
     ]
    },
    {
     "output_type": "execute_result",
     "data": {
      "text/plain": [
       "True"
      ]
     },
     "execution_count": 7,
     "metadata": {},
     "output_type": "execute_result"
    }
   ],
   "source": [
    "dbutils.fs.unmount(\"/mnt/proyectofinal\")"
   ]
  }
 ],
 "metadata": {
  "application/vnd.databricks.v1+notebook": {
   "dashboards": [],
   "language": "python",
   "notebookMetadata": {
    "mostRecentlyExecutedCommandWithImplicitDF": {
     "commandId": 1288434329301860,
     "dataframes": [
      "_sqldf"
     ]
    },
    "pythonIndentUnit": 4
   },
   "notebookName": "Transferencia_capaoro",
   "widgets": {}
  }
 },
 "nbformat": 4,
 "nbformat_minor": 0
}
