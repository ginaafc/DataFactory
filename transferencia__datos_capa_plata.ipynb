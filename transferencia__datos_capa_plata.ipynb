{
 "cells": [
  {
   "cell_type": "code",
   "execution_count": 0,
   "metadata": {
    "application/vnd.databricks.v1+cell": {
     "cellMetadata": {
      "byteLimit": 2048000,
      "rowLimit": 10000
     },
     "inputWidgets": {},
     "nuid": "96d4c0fa-e9cd-444a-87a1-1f817f6dac8c",
     "showTitle": false,
     "title": ""
    }
   },
   "outputs": [],
   "source": [
    "## Conexion con el storage\n"
   ]
  },
  {
   "cell_type": "code",
   "execution_count": 0,
   "metadata": {
    "application/vnd.databricks.v1+cell": {
     "cellMetadata": {
      "byteLimit": 2048000,
      "rowLimit": 10000
     },
     "inputWidgets": {},
     "nuid": "19a2b57e-d445-489b-a2ca-9f6c58d88fe9",
     "showTitle": false,
     "title": ""
    }
   },
   "outputs": [
    {
     "output_type": "display_data",
     "data": {
      "text/html": [
       "<style scoped>\n",
       "  .ansiout {\n",
       "    display: block;\n",
       "    unicode-bidi: embed;\n",
       "    white-space: pre-wrap;\n",
       "    word-wrap: break-word;\n",
       "    word-break: break-all;\n",
       "    font-family: \"Menlo\", \"Monaco\", \"Consolas\", \"Ubuntu Mono\", \"Source Code Pro\", monospace;\n",
       "    font-size: 13px;\n",
       "    color: #555;\n",
       "    margin-left: 4px;\n",
       "    line-height: 19px;\n",
       "  }\n",
       "</style>\n",
       "<div class=\"ansiout\">storageAccount: String = alissonfigueroa\n",
       "container: String = proyectofinal\n",
       "sasKey: String = ?sv=2022-11-02&amp;ss=bfqt&amp;srt=sco&amp;sp=rwdlacupyx&amp;se=2024-02-06T08:29:37Z&amp;st=2024-02-06T00:29:37Z&amp;spr=https&amp;sig=ulfx4fcDsqiy0RJIr0oe8Iu%2Be1Fltay%2FY4g%2B%2FPSXpDM%3D\n",
       "conf: String = fs.azure.sas.proyectofinal.alissonfigueroa.blob.core.windows.net\n",
       "res4: Boolean = true\n",
       "</div>"
      ]
     },
     "metadata": {
      "application/vnd.databricks.v1+output": {
       "addedWidgets": {},
       "arguments": {},
       "data": "<div class=\"ansiout\">storageAccount: String = alissonfigueroa\ncontainer: String = proyectofinal\nsasKey: String = ?sv=2022-11-02&amp;ss=bfqt&amp;srt=sco&amp;sp=rwdlacupyx&amp;se=2024-02-06T08:29:37Z&amp;st=2024-02-06T00:29:37Z&amp;spr=https&amp;sig=ulfx4fcDsqiy0RJIr0oe8Iu%2Be1Fltay%2FY4g%2B%2FPSXpDM%3D\nconf: String = fs.azure.sas.proyectofinal.alissonfigueroa.blob.core.windows.net\nres4: Boolean = true\n</div>",
       "datasetInfos": [],
       "metadata": {
        "isDbfsCommandResult": false
       },
       "removedWidgets": [],
       "type": "html"
      }
     },
     "output_type": "display_data"
    }
   ],
   "source": [
    "%scala\n",
    "val storageAccount=\"alissonfigueroa\"\n",
    "val container=\"proyectofinal\"\n",
    "val sasKey=\"?sv=2022-11-02&ss=bfqt&srt=sco&sp=rwdlacupyx&se=2024-02-06T08:29:37Z&st=2024-02-06T00:29:37Z&spr=https&sig=ulfx4fcDsqiy0RJIr0oe8Iu%2Be1Fltay%2FY4g%2B%2FPSXpDM%3D\"\n",
    "\n",
    "val conf = \"fs.azure.sas.\" + container + \".\" + storageAccount + \".blob.core.windows.net\"\n",
    "\n",
    "dbutils.fs.mount(source=\"wasbs://\" + container + \"@\" + storageAccount + \".blob.core.windows.net\", mountPoint=\"/mnt/\" + container, extraConfigs = Map(conf -> sasKey))\n"
   ]
  },
  {
   "cell_type": "code",
   "execution_count": 0,
   "metadata": {
    "application/vnd.databricks.v1+cell": {
     "cellMetadata": {
      "byteLimit": 2048000,
      "rowLimit": 10000
     },
     "inputWidgets": {},
     "nuid": "f3211e5d-2afe-40a7-9223-0eae4eafe944",
     "showTitle": false,
     "title": ""
    }
   },
   "outputs": [
    {
     "output_type": "display_data",
     "data": {
      "text/html": [
       "<style scoped>\n",
       "  .table-result-container {\n",
       "    max-height: 300px;\n",
       "    overflow: auto;\n",
       "  }\n",
       "  table, th, td {\n",
       "    border: 1px solid black;\n",
       "    border-collapse: collapse;\n",
       "  }\n",
       "  th, td {\n",
       "    padding: 5px;\n",
       "  }\n",
       "  th {\n",
       "    text-align: left;\n",
       "  }\n",
       "</style><div class='table-result-container'><table class='table-result'><thead style='background-color: white'><tr><th>path</th><th>name</th><th>size</th><th>modificationTime</th></tr></thead><tbody><tr><td>dbfs:/mnt/proyectofinal/capabronce/</td><td>capabronce/</td><td>0</td><td>0</td></tr><tr><td>dbfs:/mnt/proyectofinal/capaoro/</td><td>capaoro/</td><td>0</td><td>0</td></tr><tr><td>dbfs:/mnt/proyectofinal/capaplata/</td><td>capaplata/</td><td>0</td><td>0</td></tr><tr><td>dbfs:/mnt/proyectofinal/input/</td><td>input/</td><td>0</td><td>0</td></tr></tbody></table></div>"
      ]
     },
     "metadata": {
      "application/vnd.databricks.v1+output": {
       "addedWidgets": {},
       "aggData": [],
       "aggError": "",
       "aggOverflow": false,
       "aggSchema": [],
       "aggSeriesLimitReached": false,
       "aggType": "",
       "arguments": {},
       "columnCustomDisplayInfos": {},
       "data": [
        [
         "dbfs:/mnt/proyectofinal/capabronce/",
         "capabronce/",
         0,
         0
        ],
        [
         "dbfs:/mnt/proyectofinal/capaoro/",
         "capaoro/",
         0,
         0
        ],
        [
         "dbfs:/mnt/proyectofinal/capaplata/",
         "capaplata/",
         0,
         0
        ],
        [
         "dbfs:/mnt/proyectofinal/input/",
         "input/",
         0,
         0
        ]
       ],
       "datasetInfos": [],
       "dbfsResultPath": null,
       "isJsonSchema": true,
       "metadata": {
        "isDbfsCommandResult": false
       },
       "overflow": false,
       "plotOptions": {
        "customPlotOptions": {},
        "displayType": "table",
        "pivotAggregation": null,
        "pivotColumns": null,
        "xColumns": null,
        "yColumns": null
       },
       "removedWidgets": [],
       "schema": [
        {
         "metadata": "{}",
         "name": "path",
         "type": "\"string\""
        },
        {
         "metadata": "{}",
         "name": "name",
         "type": "\"string\""
        },
        {
         "metadata": "{}",
         "name": "size",
         "type": "\"long\""
        },
        {
         "metadata": "{}",
         "name": "modificationTime",
         "type": "\"long\""
        }
       ],
       "type": "table"
      }
     },
     "output_type": "display_data"
    }
   ],
   "source": [
    "%fs ls /mnt/proyectofinal"
   ]
  },
  {
   "cell_type": "code",
   "execution_count": 0,
   "metadata": {
    "application/vnd.databricks.v1+cell": {
     "cellMetadata": {
      "byteLimit": 2048000,
      "rowLimit": 10000
     },
     "inputWidgets": {},
     "nuid": "a344c6bf-80b3-4039-bbc6-7ac79cd7b3d4",
     "showTitle": false,
     "title": ""
    }
   },
   "outputs": [
    {
     "output_type": "display_data",
     "data": {
      "text/html": [
       "<style scoped>\n",
       "  .ansiout {\n",
       "    display: block;\n",
       "    unicode-bidi: embed;\n",
       "    white-space: pre-wrap;\n",
       "    word-wrap: break-word;\n",
       "    word-break: break-all;\n",
       "    font-family: \"Menlo\", \"Monaco\", \"Consolas\", \"Ubuntu Mono\", \"Source Code Pro\", monospace;\n",
       "    font-size: 13px;\n",
       "    color: #555;\n",
       "    margin-left: 4px;\n",
       "    line-height: 19px;\n",
       "  }\n",
       "</style>\n",
       "<div class=\"ansiout\">Cod_Producto|Nombre|Cod_SubCategoria|Color\r\n",
       "212|Casco deportivo: 100, rojo|31|Red\r\n",
       "213|Casco deportivo: 100, rojo|31|Red\r\n",
       "214|Casco deportivo: 100, rojo|31|Red\r\n",
       "215|Casco deportivo: 100, negro|31|Black\r\n",
       "216|Casco deportivo: 100, negro|31|Black\r\n",
       "217|Casco deportivo: 100, negro|31|Black\r\n",
       "218|Calcetines para bicicleta de monta�a, M|23|White\r\n",
       "219|Calcetines para bicicleta de monta�a, G|23|White\r\n",
       "220|Casco deportivo: 100, azul|31|Blue\r\n",
       "221|Casco deportivo: 100, azul|31|Blue\r\n",
       "222|Casco deportivo: 100, azul|31|Blue\r\n",
       "226|Jersey con logotipo de manga larga, P|21|Multi\r\n",
       "227|Jersey con logotipo de manga larga, P|21|Multi\r\n",
       "228|Jersey con logotipo de manga larga, P|21|Multi\r\n",
       "229|Jersey con logotipo de manga larga, M|21|Multi\r\n",
       "230|Jersey con logotipo de manga larga, M|21|Multi\r\n",
       "231|Jersey con logotipo de manga larga, M|21|Multi\r\n",
       "232|Jersey con logotipo de manga larga, G|21|Multi\r\n",
       "233|Jersey con logotipo de manga larga, G|21|Multi\r\n",
       "234|Jersey con logotipo de manga larga, G|21|Multi\r\n",
       "235|Jersey con logotipo de manga larga, SG|21|Multi\r\n",
       "236|Jersey con logotipo de manga larga, SG|21|Multi\r\n",
       "237|Jersey con logotipo de manga larga, SG|21|Multi\r\n",
       "238|Cuadro de carretera GA: rojo, 62|14|Red\r\n",
       "239|Cuadro de carretera GA: rojo, 62|14|Red\r\n",
       "240|Cuadro de carretera GA: rojo, 62|14|Red\r\n",
       "241|Cuadro de carretera GA: rojo, 44|14|Red\r\n",
       "242|Cuadro de carretera GA: rojo, 44|14|Red\r\n",
       "243|Cuadro de carretera GA: rojo, 44|14|Red\r\n",
       "244|Cuadro de carretera GA: rojo, 48|14|Red\r\n",
       "245|Cuadro de carretera GA: rojo, 48|14|Red\r\n",
       "246|Cuadro de carretera GA: rojo, 48|14|Red\r\n",
       "247|Cuadro de carretera GA: rojo, 52|14|Red\r\n",
       "248|Cuadro de carretera GA: rojo, 52|14|Red\r\n",
       "249|Cuadro de carretera GA: rojo, 52|14|Red\r\n",
       "250|Cuadro de carretera GA: rojo, 56|14|Red\r\n",
       "251|Cuadro de carretera GA: rojo, 56|14|Red\r\n",
       "252|Cuadro de carretera GA: rojo, 56|14|Red\r\n",
       "253|Cuadro de carretera GB: negro, 58|14|Black\r\n",
       "254|Cuadro de carretera GB: negro, 58|14|Black\r\n",
       "255|Cuadro de carretera GB: negro, 58|14|Black\r\n",
       "256|Cuadro de carretera GB: negro, 60|14|Black\r\n",
       "257|Cuadro de carretera GB: negro, 60|14|Black\r\n",
       "258|Cuadro de carretera GB: negro, 60|14|Black\r\n",
       "259|Cuadro de carretera GB: negro, 62|14|Black\r\n",
       "260|Cuadro de carretera GB: negro, 62|14|Black\r\n",
       "261|Cuadro de carretera GB: negro, 62|14|Black\r\n",
       "262|Cuadro de carretera GB: rojo, 44|14|Red\r\n",
       "263|Cuadro de carretera GB: rojo, 44|14|Red\r\n",
       "264|Cuadro de carretera GB: rojo, 48|14|Red\r\n",
       "265|Cuadro de carretera GB: rojo, 48|14|Red\r\n",
       "266|Cuadro de carretera GB: rojo, 52|14|Red\r\n",
       "267|Cuadro de carretera GB: rojo, 52|14|Red\r\n",
       "268|Cuadro de carretera GB: rojo, 58|14|Red\r\n",
       "269|Cuadro de carretera GB: rojo, 58|14|Red\r\n",
       "270|Cuadro de carretera GB: rojo, 60|14|Red\r\n",
       "271|Cuadro de carretera GB: rojo, 60|14|Red\r\n",
       "272|Cuadro de carretera GB: rojo, 62|14|Red\r\n",
       "273|Cuadro de carretera GB: rojo, 62|14|Red\r\n",
       "274|Cuadro de carretera GM: rojo, 44|14|Red\r\n",
       "275|Cuadro de carretera GM: rojo, 48|14|Red\r\n",
       "276|Cuadro de carretera GM: rojo, 52|14|Red\r\n",
       "277|Cuadro de carretera GM: rojo, 58|14|Red\r\n",
       "278|Cuadro de carretera GM: rojo, 60|14|Red\r\n",
       "279|Cuadro de carretera GB: negro, 44|14|Black\r\n",
       "280|Cuadro de carretera GB: negro, 44|14|Black\r\n",
       "281|Cuadro de carretera GB: negro, 44|14|Black\r\n",
       "282|Cuadro de carretera GB: negro, 48|14|Black\r\n",
       "283|Cuadro de carretera GB: negro, 48|14|Black\r\n",
       "284|Cuadro de carretera GB: negro, 48|14|Black\r\n",
       "285|Cuadro de carretera GB: negro, 52|14|Black\r\n",
       "286|Cuadro de carretera GB: negro, 52|14|Black\r\n",
       "287|Cuadro de carretera GB: negro, 52|14|Black\r\n",
       "310|Carretera: 150, roja, 62|2|Red\r\n",
       "311|Carretera: 150, roja, 44|2|Red\r\n",
       "312|Carretera: 150, roja, 48|2|Red\r\n",
       "313|Carretera: 150, roja, 52|2|Red\r\n",
       "314|Carretera: 150, roja, 56|2|Red\r\n",
       "315|Carretera: 450, roja, 58|2|Red\r\n",
       "316|Carretera: 450, roja, 60|2|Red\r\n",
       "317|Carretera: 450, roja, 44|2|Red\r\n",
       "318|Carretera: 450, roja, 48|2|Red\r\n",
       "319|Carretera: 450, roja, 52|2|Red\r\n",
       "320|Carretera: 650, roja, 58|2|Red\r\n",
       "321|Carretera: 650, roja, 58|2|Red\r\n",
       "322|Carretera: 650, roja, 60|2|Red\r\n",
       "323|Carretera: 650, roja, 60|2|Red\r\n",
       "324|Carretera: 650, roja, 62|2|Red\r\n",
       "325|Carretera: 650, roja, 62|2|Red\r\n",
       "326|Carretera: 650, roja, 44|2|Red\r\n",
       "327|Carretera: 650, roja, 44|2|Red\r\n",
       "328|Carretera: 650, roja, 48|2|Red\r\n",
       "329|Carretera: 650, roja, 48|2|Red\r\n",
       "330|Carretera: 650, roja, 52|2|Red\r\n",
       "331|Carretera: 650, roja, 52|2|Red\r\n",
       "332|Carretera: 650, negra, 58|2|Black\r\n",
       "333|Carretera: 650, negra, 58|2|Black\r\n",
       "334|Carretera: 650, negra, 60|2|Black\r\n",
       "335|Carretera: 650, negra, 60|2|Black\r\n",
       "336|Carretera: 650, negra, 62|2|Black\r\n",
       "337|Carretera: 650, negra, 62|2|Black\r\n",
       "338|Carretera: 650, negra, 44|2|Black\r\n",
       "339|Carretera: 650, negra, 44|2|Black\r\n",
       "340|Carretera: 650, negra, 48|2|Black\r\n",
       "341|Carretera: 650, negra, 48|2|Black\r\n",
       "342|Carretera: 650, negra, 52|2|Black\r\n",
       "343|Carretera: 650, negra, 52|2|Black\r\n",
       "344|Monta�a: 100, plateada, 38|1|Silver\r\n",
       "345|Monta�a: 100, plateada, 42|1|Silver\r\n",
       "346|Monta�a: 100, plateada, 44|1|Silver\r\n",
       "347|Monta�a: 100, plateada, 48|1|Silver\r\n",
       "348|Monta�a: 100, negra, 38|1|Black\r\n",
       "349|Monta�a: 100, negra, 42|1|Black\r\n",
       "350|Monta�a: 100, negra, 44|1|Black\r\n",
       "351|Monta�a: 100, negra, 48|1|Black\r\n",
       "352|Monta�a: 200, plateada, 38|1|Silver\r\n",
       "353|Monta�a: 200, plateada, 38|1|Silver\r\n",
       "354|Monta�a: 200, plateada, 42|1|Silver\r\n",
       "355|Monta�a: 200, plateada, 42|1|Silver\r\n",
       "356|Monta�a: 200, plateada, 46|1|Silver\r\n",
       "357|Monta�a: 200, plateada, 46|1|Silver\r\n",
       "358|Monta�a: 200, negra, 38|1|Black\r\n",
       "359|Monta�a: 200, negra, 38|1|Black\r\n",
       "360|Monta�a: 200, negra, 42|1|Black\r\n",
       "361|Monta�a: 200, negra, 42|1|Black\r\n",
       "362|Monta�a: 200, negra, 46|1|Black\r\n",
       "363|Monta�a: 200, negra, 46|1|Black\r\n",
       "364|Monta�a: 300, negra, 38|1|Black\r\n",
       "365|Monta�a: 300, negra, 40|1|Black\r\n",
       "366|Monta�a: 300, negra, 44|1|Black\r\n",
       "367|Monta�a: 300, negra, 48|1|Black\r\n",
       "368|Carretera: 250, roja, 44|2|Red\r\n",
       "369|Carretera: 250, roja, 48|2|Red\r\n",
       "370|Carretera: 250, roja, 52|2|Red\r\n",
       "371|Carretera: 250, roja, 58|2|Red\r\n",
       "372|Carretera: 250, roja, 58|2|Red\r\n",
       "373|Carretera: 250, negra, 44|2|Black\r\n",
       "374|Carretera: 250, negra, 44|2|Black\r\n",
       "375|Carretera: 250, negra, 48|2|Black\r\n",
       "376|Carretera: 250, negra, 48|2|Black\r\n",
       "377|Carretera: 250, negra, 52|2|Black\r\n",
       "378|Carretera: 250, negra, 52|2|Black\r\n",
       "379|Carretera: 250, negra, 58|2|Black\r\n",
       "380|Carretera: 250, negra, 58|2|Black\r\n",
       "381|Carretera: 550 para mujer, amarilla, 38|2|Yellow\r\n",
       "382|Carretera: 550 para mujer, amarilla, 38|2|Yellow\r\n",
       "383|Carretera: 550 para mujer, amarilla, 40|2|Yellow\r\n",
       "384|Carretera: 550 para mujer, amarilla, 40|2|Yellow\r\n",
       "385|Carretera: 550 para mujer, amarilla, 42|2|Yellow\r\n",
       "386|Carretera: 550 para mujer, amarilla, 42|2|Yellow\r\n",
       "387|Carretera: 550 para mujer, amarilla, 44|2|Yellow\r\n",
       "388|Carretera: 550 para mujer, amarilla, 44|2|Yellow\r\n",
       "389|Carretera: 550 para mujer, amarilla, 48|2|Yellow\r\n",
       "390|Carretera: 550 para mujer, amarilla, 48|2|Yellow\r\n",
       "391|Horquilla GB|10|NA\r\n",
       "392|Horquilla GM|10|NA\r\n",
       "393|Horquilla GA|10|NA\r\n",
       "394|Direcci�n GB|11|NA\r\n",
       "395|Direcci�n GM|11|NA\r\n",
       "396|Direcci�n GA|11|NA\r\n",
       "403|Manillar de carretera GB|4|NA\r\n",
       "404|Manillar de carretera GB|4|NA\r\n",
       "405|Manillar de carretera GM|4|NA\r\n",
       "406|Manillar de carretera GM|4|NA\r\n",
       "407|Manillar de carretera GA|4|NA\r\n",
       "408|Manillar de carretera GA|4|NA\r\n",
       "413|Rueda de carretera delantera GB|17|Black\r\n",
       "414|Rueda de carretera delantera GM|17|Black\r\n",
       "415|Rueda de carretera delantera GA|17|Black\r\n",
       "416|Rueda de paseo delantera|17|Black\r\n",
       "417|Cuadro de carretera para mujer GM: amarillo, 38|14|Yellow\r\n",
       "418|Cuadro de carretera para mujer GM: amarillo, 38|14|Yellow\r\n",
       "422|Rueda de carretera trasera GB|17|Black\r\n",
       "423|Rueda de carretera trasera GM|17|Black\r\n",
       "424|Rueda de carretera trasera GA|17|Black\r\n",
       "425|Rueda de paseo trasera|17|Black\r\n",
       "429|Cuadro de carretera para mujer GM: amarillo, 40|14|Yellow\r\n",
       "430|Cuadro de carretera para mujer GM: amarillo, 40|14|Yellow\r\n",
       "431|Cuadro de carretera para mujer GM: amarillo, 42|14|Yellow\r\n",
       "432|Cuadro de carretera para mujer GM: amarillo, 42|14|Yellow\r\n",
       "433|Cuadro de carretera para mujer GM: amarillo, 44|14|Yellow\r\n",
       "434|Cuadro de carretera para mujer GM: amarillo, 44|14|Yellow\r\n",
       "435|Cuadro de carretera para mujer GM: amarillo, 48|14|Yellow\r\n",
       "436|Cuadro de carretera para mujer GM: amarillo, 48|14|Yellow\r\n",
       "437|Cuadro de carretera GA: negro, 62|14|Black\r\n",
       "438|Cuadro de carretera GA: negro, 62|14|Black\r\n",
       "439|Cuadro de carretera GA: negro, 44|14|Black\r\n",
       "440|Cuadro de carretera GA: negro, 44|14|Black\r\n",
       "441|Cuadro de carretera GA: negro, 48|14|Black\r\n",
       "442|Cuadro de carretera GA: negro, 48|14|Black\r\n",
       "443|Cuadro de carretera GA: negro, 52|14|Black\r\n",
       "444|Cuadro de carretera GA: negro, 52|14|Black\r\n",
       "445|Pantalones cortos de deporte para hombre, P|22|Black\r\n",
       "446|Cesta de paseo, grande|35|Grey\r\n",
       "447|Cable antirrobo|34|NA\r\n",
       "449|Bomba de monta�a|36|NA\r\n",
       "451|Luces: doble haz|33|NA\r\n",
       "452|Luces: resistentes al agua|33|NA\r\n",
       "453|Pantalones cortos de deporte para hombre, M|22|Black\r\n",
       "454|Pantalones cortos de deporte para hombre, G|22|Black\r\n",
       "455|Pantalones cortos de deporte para hombre, SG|22|Black\r\n",
       "456|Mallas para mujer, P|24|Black\r\n",
       "457|Mallas para mujer, M|24|Black\r\n",
       "458|Mallas para mujer, G|24|Black\r\n",
       "468|Guantes completos, P|20|Black\r\n",
       "469|Guantes completos, M|20|Black\r\n",
       "470|Guantes completos, G|20|Black\r\n",
       "471|Camiseta cl�sica, P|25|Blue\r\n",
       "472|Camiseta cl�sica, M|25|Blue\r\n",
       "473|Camiseta cl�sica, G|25|Blue\r\n",
       "478|Portabotellas de monta�a|28|NA\r\n",
       "479|Portabotellas de carretera|28|NA\r\n",
       "481|Calcetines para carreras, M|23|White\r\n",
       "482|Calcetines para carreras, G|23|White\r\n",
       "484|Lavado de bicicletas: disolvente|29|NA\r\n",
       "485|Conjunto de guardabarros: monta�a|30|NA\r\n",
       "486|Soporte multiusos para bicicletas|27|NA\r\n",
       "488|Jersey cl�sico de manga corta, P|21|Yellow\r\n",
       "489|Jersey cl�sico de manga corta, M|21|Yellow\r\n",
       "490|Jersey cl�sico de manga corta, G|21|Yellow\r\n",
       "491|Jersey cl�sico de manga corta, SG|21|Yellow\r\n",
       "492|Cuadro de paseo GA: amarillo, 60|16|Yellow\r\n",
       "493|Cuadro de paseo GB: amarillo, 62|16|Yellow\r\n",
       "494|Cuadro de paseo GA: amarillo, 46|16|Yellow\r\n",
       "495|Cuadro de paseo GA: amarillo, 50|16|Yellow\r\n",
       "496|Cuadro de paseo GA: amarillo, 54|16|Yellow\r\n",
       "497|Cuadro de paseo GA: azul, 46|16|Blue\r\n",
       "498|Cuadro de paseo GA: azul, 50|16|Blue\r\n",
       "499|Cuadro de paseo GA: azul, 54|16|Blue\r\n",
       "500|Cuadro de paseo GA: azul, 60|16|Blue\r\n",
       "501|Desviador trasero|9|Silver\r\n",
       "502|Cuadro de paseo GB: azul, 50|16|Blue\r\n",
       "503|Cuadro de paseo GB: azul, 54|16|Blue\r\n",
       "504|Cuadro de paseo GB: azul, 58|16|Blue\r\n",
       "505|Cuadro de paseo GB: azul, 62|16|Blue\r\n",
       "506|Cuadro de paseo GB: amarillo, 44|16|Yellow\r\n",
       "507|Cuadro de paseo GB: amarillo, 50|16|Yellow\r\n",
       "508|Cuadro de paseo GB: amarillo, 54|16|Yellow\r\n",
       "509|Cuadro de paseo GB: amarillo, 58|16|Yellow\r\n",
       "510|Cuadro de paseo GB: azul, 44|16|Blue\r\n",
       "514|Frenos traseros|6|Silver\r\n",
       "518|Sill�n/asiento de carretera GB|15|NA\r\n",
       "519|Sill�n/asiento de carretera GM|15|NA\r\n",
       "520|Sill�n/asiento de carretera GA|15|NA\r\n",
       "521|Sill�n/asiento de paseo GB|15|NA\r\n",
       "522|Sill�n/asiento de paseo GM|15|NA\r\n",
       "523|Sill�n/asiento de paseo GA|15|NA\r\n",
       "528|Cubierta para c�mara de monta�a|37|NA\r\n",
       "529|Cubierta para c�mara de carretera|37|NA\r\n",
       "530|Cubierta para c�mara de paseo|37|NA\r\n",
       "535|Cubierta de monta�a GB|37|NA\r\n",
       "536|Cubierta de monta�a GM|37|NA\r\n",
       "537|Cubierta de monta�a GA|37|NA\r\n",
       "538|Cubierta de carretera GB|37|NA\r\n",
       "539|Cubierta de carretera GM|37|NA\r\n",
       "540|Cubierta de carretera GA|37|NA\r\n",
       "541|Cubierta de paseo|37|NA\r\n",
       "542|Pedal de monta�a GB|13|Silver/Black\r\n",
       "543|Pedal de monta�a GM|13|Silver/Black\r\n",
       "544|Pedal de monta�a GA|13|Silver/Black\r\n",
       "545|Pedal de carretera GB|13|Silver/Black\r\n",
       "546|Pedal de carretera GM|13|Silver/Black\r\n",
       "547|Pedal de carretera GA|13|Silver/Black\r\n",
       "548|Pedal de paseo|13|Silver/Black\r\n",
       "552|Desviador delantero|9|Silver\r\n",
       "553|Manillar de paseo GB|4|NA\r\n",
       "554|Manillar de paseo GA|4|NA\r\n",
       "555|Frenos delanteros|6|Silver\r\n",
       "556|Bielas GB|8|Black\r\n",
       "557|Bielas GM|8|Black\r\n",
       "558|Bielas GA|8|Black\r\n",
       "559|Cadena|7|Silver\r\n",
       "560|Paseo: 2000, azul, 60|3|Blue\r\n",
       "561|Paseo: 1000, amarilla, 46|3|Yellow\r\n",
       "562|Paseo: 1000, amarilla, 50|3|Yellow\r\n",
       "563|Paseo: 1000, amarilla, 54|3|Yellow\r\n",
       "564|Paseo: 1000, amarilla, 60|3|Yellow\r\n",
       "565|Paseo: 3000, azul, 54|3|Blue\r\n",
       "566|Paseo: 3000, azul, 58|3|Blue\r\n",
       "567|Paseo: 3000, azul, 62|3|Blue\r\n",
       "568|Paseo: 3000, amarilla, 44|3|Yellow\r\n",
       "569|Paseo: 3000, amarilla, 50|3|Yellow\r\n",
       "570|Paseo: 3000, amarilla, 54|3|Yellow\r\n",
       "571|Paseo: 3000, amarilla, 58|3|Yellow\r\n",
       "572|Paseo: 3000, amarilla, 62|3|Yellow\r\n",
       "573|Paseo: 1000, azul, 46|3|Blue\r\n",
       "574|Paseo: 1000, azul, 50|3|Blue\r\n",
       "575|Paseo: 1000, azul, 54|3|Blue\r\n",
       "576|Paseo: 1000, azul, 60|3|Blue\r\n",
       "577|Paseo: 2000, azul, 46|3|Blue\r\n",
       "578|Paseo: 2000, azul, 50|3|Blue\r\n",
       "579|Paseo: 2000, azul, 54|3|Blue\r\n",
       "580|Carretera: 350 para mujer, amarilla, 40|2|Yellow\r\n",
       "581|Carretera: 350 para mujer, amarilla, 42|2|Yellow\r\n",
       "582|Carretera: 350 para mujer, amarilla, 44|2|Yellow\r\n",
       "583|Carretera: 350 para mujer, amarilla, 48|2|Yellow\r\n",
       "584|Carretera: 750, negra, 58|2|Black\r\n",
       "585|Paseo: 3000, azul, 44|3|Blue\r\n",
       "586|Paseo: 3000, azul, 50|3|Blue\r\n",
       "587|Monta�a: 400 para mujer, plateada, 38|1|Silver\r\n",
       "588|Monta�a: 400 para mujer, plateada, 40|1|Silver\r\n",
       "589|Monta�a: 400 para mujer, plateada, 42|1|Silver\r\n",
       "590|Monta�a: 400 para mujer, plateada, 46|1|Silver\r\n",
       "591|Monta�a: 500, plateada, 40|1|Silver\r\n",
       "592|Monta�a: 500, plateada, 42|1|Silver\r\n",
       "593|Monta�a: 500, plateada, 44|1|Silver\r\n",
       "594|Monta�a: 500, plateada, 48|1|Silver\r\n",
       "595|Monta�a: 500, plateada, 52|1|Silver\r\n",
       "596|Monta�a: 500, negra, 40|1|Black\r\n",
       "597|Monta�a: 500, negra, 42|1|Black\r\n",
       "598|Monta�a: 500, negra, 44|1|Black\r\n",
       "599|Monta�a: 500, negra, 48|1|Black\r\n",
       "600|Monta�a: 500, negra, 52|1|Black\r\n",
       "601|Eje de pedalier GB|5|NA\r\n",
       "602|Eje de pedalier GM|5|NA\r\n",
       "603|Eje de pedalier GA|5|NA\r\n",
       "604|Carretera: 750, negra, 44|2|Black\r\n",
       "605|Carretera: 750, negra, 48|2|Black\r\n",
       "606|Carretera: 750, negra, 52|2|Black\r\n",
       "\n",
       "</div>"
      ]
     },
     "metadata": {
      "application/vnd.databricks.v1+output": {
       "addedWidgets": {},
       "arguments": {},
       "data": "<div class=\"ansiout\">Cod_Producto|Nombre|Cod_SubCategoria|Color\r\n212|Casco deportivo: 100, rojo|31|Red\r\n213|Casco deportivo: 100, rojo|31|Red\r\n214|Casco deportivo: 100, rojo|31|Red\r\n215|Casco deportivo: 100, negro|31|Black\r\n216|Casco deportivo: 100, negro|31|Black\r\n217|Casco deportivo: 100, negro|31|Black\r\n218|Calcetines para bicicleta de monta�a, M|23|White\r\n219|Calcetines para bicicleta de monta�a, G|23|White\r\n220|Casco deportivo: 100, azul|31|Blue\r\n221|Casco deportivo: 100, azul|31|Blue\r\n222|Casco deportivo: 100, azul|31|Blue\r\n226|Jersey con logotipo de manga larga, P|21|Multi\r\n227|Jersey con logotipo de manga larga, P|21|Multi\r\n228|Jersey con logotipo de manga larga, P|21|Multi\r\n229|Jersey con logotipo de manga larga, M|21|Multi\r\n230|Jersey con logotipo de manga larga, M|21|Multi\r\n231|Jersey con logotipo de manga larga, M|21|Multi\r\n232|Jersey con logotipo de manga larga, G|21|Multi\r\n233|Jersey con logotipo de manga larga, G|21|Multi\r\n234|Jersey con logotipo de manga larga, G|21|Multi\r\n235|Jersey con logotipo de manga larga, SG|21|Multi\r\n236|Jersey con logotipo de manga larga, SG|21|Multi\r\n237|Jersey con logotipo de manga larga, SG|21|Multi\r\n238|Cuadro de carretera GA: rojo, 62|14|Red\r\n239|Cuadro de carretera GA: rojo, 62|14|Red\r\n240|Cuadro de carretera GA: rojo, 62|14|Red\r\n241|Cuadro de carretera GA: rojo, 44|14|Red\r\n242|Cuadro de carretera GA: rojo, 44|14|Red\r\n243|Cuadro de carretera GA: rojo, 44|14|Red\r\n244|Cuadro de carretera GA: rojo, 48|14|Red\r\n245|Cuadro de carretera GA: rojo, 48|14|Red\r\n246|Cuadro de carretera GA: rojo, 48|14|Red\r\n247|Cuadro de carretera GA: rojo, 52|14|Red\r\n248|Cuadro de carretera GA: rojo, 52|14|Red\r\n249|Cuadro de carretera GA: rojo, 52|14|Red\r\n250|Cuadro de carretera GA: rojo, 56|14|Red\r\n251|Cuadro de carretera GA: rojo, 56|14|Red\r\n252|Cuadro de carretera GA: rojo, 56|14|Red\r\n253|Cuadro de carretera GB: negro, 58|14|Black\r\n254|Cuadro de carretera GB: negro, 58|14|Black\r\n255|Cuadro de carretera GB: negro, 58|14|Black\r\n256|Cuadro de carretera GB: negro, 60|14|Black\r\n257|Cuadro de carretera GB: negro, 60|14|Black\r\n258|Cuadro de carretera GB: negro, 60|14|Black\r\n259|Cuadro de carretera GB: negro, 62|14|Black\r\n260|Cuadro de carretera GB: negro, 62|14|Black\r\n261|Cuadro de carretera GB: negro, 62|14|Black\r\n262|Cuadro de carretera GB: rojo, 44|14|Red\r\n263|Cuadro de carretera GB: rojo, 44|14|Red\r\n264|Cuadro de carretera GB: rojo, 48|14|Red\r\n265|Cuadro de carretera GB: rojo, 48|14|Red\r\n266|Cuadro de carretera GB: rojo, 52|14|Red\r\n267|Cuadro de carretera GB: rojo, 52|14|Red\r\n268|Cuadro de carretera GB: rojo, 58|14|Red\r\n269|Cuadro de carretera GB: rojo, 58|14|Red\r\n270|Cuadro de carretera GB: rojo, 60|14|Red\r\n271|Cuadro de carretera GB: rojo, 60|14|Red\r\n272|Cuadro de carretera GB: rojo, 62|14|Red\r\n273|Cuadro de carretera GB: rojo, 62|14|Red\r\n274|Cuadro de carretera GM: rojo, 44|14|Red\r\n275|Cuadro de carretera GM: rojo, 48|14|Red\r\n276|Cuadro de carretera GM: rojo, 52|14|Red\r\n277|Cuadro de carretera GM: rojo, 58|14|Red\r\n278|Cuadro de carretera GM: rojo, 60|14|Red\r\n279|Cuadro de carretera GB: negro, 44|14|Black\r\n280|Cuadro de carretera GB: negro, 44|14|Black\r\n281|Cuadro de carretera GB: negro, 44|14|Black\r\n282|Cuadro de carretera GB: negro, 48|14|Black\r\n283|Cuadro de carretera GB: negro, 48|14|Black\r\n284|Cuadro de carretera GB: negro, 48|14|Black\r\n285|Cuadro de carretera GB: negro, 52|14|Black\r\n286|Cuadro de carretera GB: negro, 52|14|Black\r\n287|Cuadro de carretera GB: negro, 52|14|Black\r\n310|Carretera: 150, roja, 62|2|Red\r\n311|Carretera: 150, roja, 44|2|Red\r\n312|Carretera: 150, roja, 48|2|Red\r\n313|Carretera: 150, roja, 52|2|Red\r\n314|Carretera: 150, roja, 56|2|Red\r\n315|Carretera: 450, roja, 58|2|Red\r\n316|Carretera: 450, roja, 60|2|Red\r\n317|Carretera: 450, roja, 44|2|Red\r\n318|Carretera: 450, roja, 48|2|Red\r\n319|Carretera: 450, roja, 52|2|Red\r\n320|Carretera: 650, roja, 58|2|Red\r\n321|Carretera: 650, roja, 58|2|Red\r\n322|Carretera: 650, roja, 60|2|Red\r\n323|Carretera: 650, roja, 60|2|Red\r\n324|Carretera: 650, roja, 62|2|Red\r\n325|Carretera: 650, roja, 62|2|Red\r\n326|Carretera: 650, roja, 44|2|Red\r\n327|Carretera: 650, roja, 44|2|Red\r\n328|Carretera: 650, roja, 48|2|Red\r\n329|Carretera: 650, roja, 48|2|Red\r\n330|Carretera: 650, roja, 52|2|Red\r\n331|Carretera: 650, roja, 52|2|Red\r\n332|Carretera: 650, negra, 58|2|Black\r\n333|Carretera: 650, negra, 58|2|Black\r\n334|Carretera: 650, negra, 60|2|Black\r\n335|Carretera: 650, negra, 60|2|Black\r\n336|Carretera: 650, negra, 62|2|Black\r\n337|Carretera: 650, negra, 62|2|Black\r\n338|Carretera: 650, negra, 44|2|Black\r\n339|Carretera: 650, negra, 44|2|Black\r\n340|Carretera: 650, negra, 48|2|Black\r\n341|Carretera: 650, negra, 48|2|Black\r\n342|Carretera: 650, negra, 52|2|Black\r\n343|Carretera: 650, negra, 52|2|Black\r\n344|Monta�a: 100, plateada, 38|1|Silver\r\n345|Monta�a: 100, plateada, 42|1|Silver\r\n346|Monta�a: 100, plateada, 44|1|Silver\r\n347|Monta�a: 100, plateada, 48|1|Silver\r\n348|Monta�a: 100, negra, 38|1|Black\r\n349|Monta�a: 100, negra, 42|1|Black\r\n350|Monta�a: 100, negra, 44|1|Black\r\n351|Monta�a: 100, negra, 48|1|Black\r\n352|Monta�a: 200, plateada, 38|1|Silver\r\n353|Monta�a: 200, plateada, 38|1|Silver\r\n354|Monta�a: 200, plateada, 42|1|Silver\r\n355|Monta�a: 200, plateada, 42|1|Silver\r\n356|Monta�a: 200, plateada, 46|1|Silver\r\n357|Monta�a: 200, plateada, 46|1|Silver\r\n358|Monta�a: 200, negra, 38|1|Black\r\n359|Monta�a: 200, negra, 38|1|Black\r\n360|Monta�a: 200, negra, 42|1|Black\r\n361|Monta�a: 200, negra, 42|1|Black\r\n362|Monta�a: 200, negra, 46|1|Black\r\n363|Monta�a: 200, negra, 46|1|Black\r\n364|Monta�a: 300, negra, 38|1|Black\r\n365|Monta�a: 300, negra, 40|1|Black\r\n366|Monta�a: 300, negra, 44|1|Black\r\n367|Monta�a: 300, negra, 48|1|Black\r\n368|Carretera: 250, roja, 44|2|Red\r\n369|Carretera: 250, roja, 48|2|Red\r\n370|Carretera: 250, roja, 52|2|Red\r\n371|Carretera: 250, roja, 58|2|Red\r\n372|Carretera: 250, roja, 58|2|Red\r\n373|Carretera: 250, negra, 44|2|Black\r\n374|Carretera: 250, negra, 44|2|Black\r\n375|Carretera: 250, negra, 48|2|Black\r\n376|Carretera: 250, negra, 48|2|Black\r\n377|Carretera: 250, negra, 52|2|Black\r\n378|Carretera: 250, negra, 52|2|Black\r\n379|Carretera: 250, negra, 58|2|Black\r\n380|Carretera: 250, negra, 58|2|Black\r\n381|Carretera: 550 para mujer, amarilla, 38|2|Yellow\r\n382|Carretera: 550 para mujer, amarilla, 38|2|Yellow\r\n383|Carretera: 550 para mujer, amarilla, 40|2|Yellow\r\n384|Carretera: 550 para mujer, amarilla, 40|2|Yellow\r\n385|Carretera: 550 para mujer, amarilla, 42|2|Yellow\r\n386|Carretera: 550 para mujer, amarilla, 42|2|Yellow\r\n387|Carretera: 550 para mujer, amarilla, 44|2|Yellow\r\n388|Carretera: 550 para mujer, amarilla, 44|2|Yellow\r\n389|Carretera: 550 para mujer, amarilla, 48|2|Yellow\r\n390|Carretera: 550 para mujer, amarilla, 48|2|Yellow\r\n391|Horquilla GB|10|NA\r\n392|Horquilla GM|10|NA\r\n393|Horquilla GA|10|NA\r\n394|Direcci�n GB|11|NA\r\n395|Direcci�n GM|11|NA\r\n396|Direcci�n GA|11|NA\r\n403|Manillar de carretera GB|4|NA\r\n404|Manillar de carretera GB|4|NA\r\n405|Manillar de carretera GM|4|NA\r\n406|Manillar de carretera GM|4|NA\r\n407|Manillar de carretera GA|4|NA\r\n408|Manillar de carretera GA|4|NA\r\n413|Rueda de carretera delantera GB|17|Black\r\n414|Rueda de carretera delantera GM|17|Black\r\n415|Rueda de carretera delantera GA|17|Black\r\n416|Rueda de paseo delantera|17|Black\r\n417|Cuadro de carretera para mujer GM: amarillo, 38|14|Yellow\r\n418|Cuadro de carretera para mujer GM: amarillo, 38|14|Yellow\r\n422|Rueda de carretera trasera GB|17|Black\r\n423|Rueda de carretera trasera GM|17|Black\r\n424|Rueda de carretera trasera GA|17|Black\r\n425|Rueda de paseo trasera|17|Black\r\n429|Cuadro de carretera para mujer GM: amarillo, 40|14|Yellow\r\n430|Cuadro de carretera para mujer GM: amarillo, 40|14|Yellow\r\n431|Cuadro de carretera para mujer GM: amarillo, 42|14|Yellow\r\n432|Cuadro de carretera para mujer GM: amarillo, 42|14|Yellow\r\n433|Cuadro de carretera para mujer GM: amarillo, 44|14|Yellow\r\n434|Cuadro de carretera para mujer GM: amarillo, 44|14|Yellow\r\n435|Cuadro de carretera para mujer GM: amarillo, 48|14|Yellow\r\n436|Cuadro de carretera para mujer GM: amarillo, 48|14|Yellow\r\n437|Cuadro de carretera GA: negro, 62|14|Black\r\n438|Cuadro de carretera GA: negro, 62|14|Black\r\n439|Cuadro de carretera GA: negro, 44|14|Black\r\n440|Cuadro de carretera GA: negro, 44|14|Black\r\n441|Cuadro de carretera GA: negro, 48|14|Black\r\n442|Cuadro de carretera GA: negro, 48|14|Black\r\n443|Cuadro de carretera GA: negro, 52|14|Black\r\n444|Cuadro de carretera GA: negro, 52|14|Black\r\n445|Pantalones cortos de deporte para hombre, P|22|Black\r\n446|Cesta de paseo, grande|35|Grey\r\n447|Cable antirrobo|34|NA\r\n449|Bomba de monta�a|36|NA\r\n451|Luces: doble haz|33|NA\r\n452|Luces: resistentes al agua|33|NA\r\n453|Pantalones cortos de deporte para hombre, M|22|Black\r\n454|Pantalones cortos de deporte para hombre, G|22|Black\r\n455|Pantalones cortos de deporte para hombre, SG|22|Black\r\n456|Mallas para mujer, P|24|Black\r\n457|Mallas para mujer, M|24|Black\r\n458|Mallas para mujer, G|24|Black\r\n468|Guantes completos, P|20|Black\r\n469|Guantes completos, M|20|Black\r\n470|Guantes completos, G|20|Black\r\n471|Camiseta cl�sica, P|25|Blue\r\n472|Camiseta cl�sica, M|25|Blue\r\n473|Camiseta cl�sica, G|25|Blue\r\n478|Portabotellas de monta�a|28|NA\r\n479|Portabotellas de carretera|28|NA\r\n481|Calcetines para carreras, M|23|White\r\n482|Calcetines para carreras, G|23|White\r\n484|Lavado de bicicletas: disolvente|29|NA\r\n485|Conjunto de guardabarros: monta�a|30|NA\r\n486|Soporte multiusos para bicicletas|27|NA\r\n488|Jersey cl�sico de manga corta, P|21|Yellow\r\n489|Jersey cl�sico de manga corta, M|21|Yellow\r\n490|Jersey cl�sico de manga corta, G|21|Yellow\r\n491|Jersey cl�sico de manga corta, SG|21|Yellow\r\n492|Cuadro de paseo GA: amarillo, 60|16|Yellow\r\n493|Cuadro de paseo GB: amarillo, 62|16|Yellow\r\n494|Cuadro de paseo GA: amarillo, 46|16|Yellow\r\n495|Cuadro de paseo GA: amarillo, 50|16|Yellow\r\n496|Cuadro de paseo GA: amarillo, 54|16|Yellow\r\n497|Cuadro de paseo GA: azul, 46|16|Blue\r\n498|Cuadro de paseo GA: azul, 50|16|Blue\r\n499|Cuadro de paseo GA: azul, 54|16|Blue\r\n500|Cuadro de paseo GA: azul, 60|16|Blue\r\n501|Desviador trasero|9|Silver\r\n502|Cuadro de paseo GB: azul, 50|16|Blue\r\n503|Cuadro de paseo GB: azul, 54|16|Blue\r\n504|Cuadro de paseo GB: azul, 58|16|Blue\r\n505|Cuadro de paseo GB: azul, 62|16|Blue\r\n506|Cuadro de paseo GB: amarillo, 44|16|Yellow\r\n507|Cuadro de paseo GB: amarillo, 50|16|Yellow\r\n508|Cuadro de paseo GB: amarillo, 54|16|Yellow\r\n509|Cuadro de paseo GB: amarillo, 58|16|Yellow\r\n510|Cuadro de paseo GB: azul, 44|16|Blue\r\n514|Frenos traseros|6|Silver\r\n518|Sill�n/asiento de carretera GB|15|NA\r\n519|Sill�n/asiento de carretera GM|15|NA\r\n520|Sill�n/asiento de carretera GA|15|NA\r\n521|Sill�n/asiento de paseo GB|15|NA\r\n522|Sill�n/asiento de paseo GM|15|NA\r\n523|Sill�n/asiento de paseo GA|15|NA\r\n528|Cubierta para c�mara de monta�a|37|NA\r\n529|Cubierta para c�mara de carretera|37|NA\r\n530|Cubierta para c�mara de paseo|37|NA\r\n535|Cubierta de monta�a GB|37|NA\r\n536|Cubierta de monta�a GM|37|NA\r\n537|Cubierta de monta�a GA|37|NA\r\n538|Cubierta de carretera GB|37|NA\r\n539|Cubierta de carretera GM|37|NA\r\n540|Cubierta de carretera GA|37|NA\r\n541|Cubierta de paseo|37|NA\r\n542|Pedal de monta�a GB|13|Silver/Black\r\n543|Pedal de monta�a GM|13|Silver/Black\r\n544|Pedal de monta�a GA|13|Silver/Black\r\n545|Pedal de carretera GB|13|Silver/Black\r\n546|Pedal de carretera GM|13|Silver/Black\r\n547|Pedal de carretera GA|13|Silver/Black\r\n548|Pedal de paseo|13|Silver/Black\r\n552|Desviador delantero|9|Silver\r\n553|Manillar de paseo GB|4|NA\r\n554|Manillar de paseo GA|4|NA\r\n555|Frenos delanteros|6|Silver\r\n556|Bielas GB|8|Black\r\n557|Bielas GM|8|Black\r\n558|Bielas GA|8|Black\r\n559|Cadena|7|Silver\r\n560|Paseo: 2000, azul, 60|3|Blue\r\n561|Paseo: 1000, amarilla, 46|3|Yellow\r\n562|Paseo: 1000, amarilla, 50|3|Yellow\r\n563|Paseo: 1000, amarilla, 54|3|Yellow\r\n564|Paseo: 1000, amarilla, 60|3|Yellow\r\n565|Paseo: 3000, azul, 54|3|Blue\r\n566|Paseo: 3000, azul, 58|3|Blue\r\n567|Paseo: 3000, azul, 62|3|Blue\r\n568|Paseo: 3000, amarilla, 44|3|Yellow\r\n569|Paseo: 3000, amarilla, 50|3|Yellow\r\n570|Paseo: 3000, amarilla, 54|3|Yellow\r\n571|Paseo: 3000, amarilla, 58|3|Yellow\r\n572|Paseo: 3000, amarilla, 62|3|Yellow\r\n573|Paseo: 1000, azul, 46|3|Blue\r\n574|Paseo: 1000, azul, 50|3|Blue\r\n575|Paseo: 1000, azul, 54|3|Blue\r\n576|Paseo: 1000, azul, 60|3|Blue\r\n577|Paseo: 2000, azul, 46|3|Blue\r\n578|Paseo: 2000, azul, 50|3|Blue\r\n579|Paseo: 2000, azul, 54|3|Blue\r\n580|Carretera: 350 para mujer, amarilla, 40|2|Yellow\r\n581|Carretera: 350 para mujer, amarilla, 42|2|Yellow\r\n582|Carretera: 350 para mujer, amarilla, 44|2|Yellow\r\n583|Carretera: 350 para mujer, amarilla, 48|2|Yellow\r\n584|Carretera: 750, negra, 58|2|Black\r\n585|Paseo: 3000, azul, 44|3|Blue\r\n586|Paseo: 3000, azul, 50|3|Blue\r\n587|Monta�a: 400 para mujer, plateada, 38|1|Silver\r\n588|Monta�a: 400 para mujer, plateada, 40|1|Silver\r\n589|Monta�a: 400 para mujer, plateada, 42|1|Silver\r\n590|Monta�a: 400 para mujer, plateada, 46|1|Silver\r\n591|Monta�a: 500, plateada, 40|1|Silver\r\n592|Monta�a: 500, plateada, 42|1|Silver\r\n593|Monta�a: 500, plateada, 44|1|Silver\r\n594|Monta�a: 500, plateada, 48|1|Silver\r\n595|Monta�a: 500, plateada, 52|1|Silver\r\n596|Monta�a: 500, negra, 40|1|Black\r\n597|Monta�a: 500, negra, 42|1|Black\r\n598|Monta�a: 500, negra, 44|1|Black\r\n599|Monta�a: 500, negra, 48|1|Black\r\n600|Monta�a: 500, negra, 52|1|Black\r\n601|Eje de pedalier GB|5|NA\r\n602|Eje de pedalier GM|5|NA\r\n603|Eje de pedalier GA|5|NA\r\n604|Carretera: 750, negra, 44|2|Black\r\n605|Carretera: 750, negra, 48|2|Black\r\n606|Carretera: 750, negra, 52|2|Black\r\n\n</div>",
       "datasetInfos": [],
       "metadata": {},
       "removedWidgets": [],
       "type": "html"
      }
     },
     "output_type": "display_data"
    }
   ],
   "source": [
    "%fs head /mnt/proyectofinal/capabronce/Producto.csv"
   ]
  },
  {
   "cell_type": "code",
   "execution_count": 0,
   "metadata": {
    "application/vnd.databricks.v1+cell": {
     "cellMetadata": {
      "byteLimit": 2048000,
      "implicitDf": true,
      "rowLimit": 10000
     },
     "inputWidgets": {},
     "nuid": "97421ee0-5d4c-447a-b239-ef66a4c8d8e6",
     "showTitle": false,
     "title": ""
    }
   },
   "outputs": [
    {
     "output_type": "display_data",
     "data": {
      "text/html": [
       "<style scoped>\n",
       "  .table-result-container {\n",
       "    max-height: 300px;\n",
       "    overflow: auto;\n",
       "  }\n",
       "  table, th, td {\n",
       "    border: 1px solid black;\n",
       "    border-collapse: collapse;\n",
       "  }\n",
       "  th, td {\n",
       "    padding: 5px;\n",
       "  }\n",
       "  th {\n",
       "    text-align: left;\n",
       "  }\n",
       "</style><div class='table-result-container'><table class='table-result'><thead style='background-color: white'><tr></tr></thead><tbody></tbody></table></div>"
      ]
     },
     "metadata": {
      "application/vnd.databricks.v1+output": {
       "addedWidgets": {},
       "aggData": [],
       "aggError": "",
       "aggOverflow": false,
       "aggSchema": [],
       "aggSeriesLimitReached": false,
       "aggType": "",
       "arguments": {},
       "columnCustomDisplayInfos": {},
       "data": [],
       "datasetInfos": [],
       "dbfsResultPath": null,
       "isJsonSchema": true,
       "metadata": {
        "dataframeName": null
       },
       "overflow": false,
       "plotOptions": {
        "customPlotOptions": {},
        "displayType": "table",
        "pivotAggregation": null,
        "pivotColumns": null,
        "xColumns": null,
        "yColumns": null
       },
       "removedWidgets": [],
       "schema": [],
       "type": "table"
      }
     },
     "output_type": "display_data"
    }
   ],
   "source": [
    "%sql\n",
    "\n",
    "DROP TABLE IF EXISTS Producto;\n",
    "\n",
    "CREATE TABLE Producto\n",
    "(Cod_Producto STRING,\n",
    "Nombre STRING,\n",
    "Cod_SubCategoria STRING,\n",
    "Color STRING)\n",
    "USING CSV\n",
    "OPTIONS (header \"true\",inferSchema \"true\", delimiter \"|\")\n",
    "LOCATION \"/mnt/proyectofinal/capabronce/Producto.csv\""
   ]
  },
  {
   "cell_type": "code",
   "execution_count": 0,
   "metadata": {
    "application/vnd.databricks.v1+cell": {
     "cellMetadata": {
      "byteLimit": 2048000,
      "implicitDf": true,
      "rowLimit": 10000
     },
     "inputWidgets": {},
     "nuid": "5e04d4de-b82b-420f-8314-88f2ea2ce524",
     "showTitle": false,
     "title": ""
    }
   },
   "outputs": [
    {
     "output_type": "display_data",
     "data": {
      "text/html": [
       "<style scoped>\n",
       "  .table-result-container {\n",
       "    max-height: 300px;\n",
       "    overflow: auto;\n",
       "  }\n",
       "  table, th, td {\n",
       "    border: 1px solid black;\n",
       "    border-collapse: collapse;\n",
       "  }\n",
       "  th, td {\n",
       "    padding: 5px;\n",
       "  }\n",
       "  th {\n",
       "    text-align: left;\n",
       "  }\n",
       "</style><div class='table-result-container'><table class='table-result'><thead style='background-color: white'><tr><th>Cod_Producto</th><th>Nombre</th><th>Cod_SubCategoria</th><th>Color</th></tr></thead><tbody><tr><td>212</td><td>Casco deportivo: 100, rojo</td><td>31</td><td>Red</td></tr><tr><td>213</td><td>Casco deportivo: 100, rojo</td><td>31</td><td>Red</td></tr><tr><td>214</td><td>Casco deportivo: 100, rojo</td><td>31</td><td>Red</td></tr><tr><td>215</td><td>Casco deportivo: 100, negro</td><td>31</td><td>Black</td></tr><tr><td>216</td><td>Casco deportivo: 100, negro</td><td>31</td><td>Black</td></tr><tr><td>217</td><td>Casco deportivo: 100, negro</td><td>31</td><td>Black</td></tr><tr><td>218</td><td>Calcetines para bicicleta de monta�a, M</td><td>23</td><td>White</td></tr><tr><td>219</td><td>Calcetines para bicicleta de monta�a, G</td><td>23</td><td>White</td></tr><tr><td>220</td><td>Casco deportivo: 100, azul</td><td>31</td><td>Blue</td></tr><tr><td>221</td><td>Casco deportivo: 100, azul</td><td>31</td><td>Blue</td></tr><tr><td>222</td><td>Casco deportivo: 100, azul</td><td>31</td><td>Blue</td></tr><tr><td>226</td><td>Jersey con logotipo de manga larga, P</td><td>21</td><td>Multi</td></tr><tr><td>227</td><td>Jersey con logotipo de manga larga, P</td><td>21</td><td>Multi</td></tr><tr><td>228</td><td>Jersey con logotipo de manga larga, P</td><td>21</td><td>Multi</td></tr><tr><td>229</td><td>Jersey con logotipo de manga larga, M</td><td>21</td><td>Multi</td></tr><tr><td>230</td><td>Jersey con logotipo de manga larga, M</td><td>21</td><td>Multi</td></tr><tr><td>231</td><td>Jersey con logotipo de manga larga, M</td><td>21</td><td>Multi</td></tr><tr><td>232</td><td>Jersey con logotipo de manga larga, G</td><td>21</td><td>Multi</td></tr><tr><td>233</td><td>Jersey con logotipo de manga larga, G</td><td>21</td><td>Multi</td></tr><tr><td>234</td><td>Jersey con logotipo de manga larga, G</td><td>21</td><td>Multi</td></tr><tr><td>235</td><td>Jersey con logotipo de manga larga, SG</td><td>21</td><td>Multi</td></tr><tr><td>236</td><td>Jersey con logotipo de manga larga, SG</td><td>21</td><td>Multi</td></tr><tr><td>237</td><td>Jersey con logotipo de manga larga, SG</td><td>21</td><td>Multi</td></tr><tr><td>238</td><td>Cuadro de carretera GA: rojo, 62</td><td>14</td><td>Red</td></tr><tr><td>239</td><td>Cuadro de carretera GA: rojo, 62</td><td>14</td><td>Red</td></tr><tr><td>240</td><td>Cuadro de carretera GA: rojo, 62</td><td>14</td><td>Red</td></tr><tr><td>241</td><td>Cuadro de carretera GA: rojo, 44</td><td>14</td><td>Red</td></tr><tr><td>242</td><td>Cuadro de carretera GA: rojo, 44</td><td>14</td><td>Red</td></tr><tr><td>243</td><td>Cuadro de carretera GA: rojo, 44</td><td>14</td><td>Red</td></tr><tr><td>244</td><td>Cuadro de carretera GA: rojo, 48</td><td>14</td><td>Red</td></tr><tr><td>245</td><td>Cuadro de carretera GA: rojo, 48</td><td>14</td><td>Red</td></tr><tr><td>246</td><td>Cuadro de carretera GA: rojo, 48</td><td>14</td><td>Red</td></tr><tr><td>247</td><td>Cuadro de carretera GA: rojo, 52</td><td>14</td><td>Red</td></tr><tr><td>248</td><td>Cuadro de carretera GA: rojo, 52</td><td>14</td><td>Red</td></tr><tr><td>249</td><td>Cuadro de carretera GA: rojo, 52</td><td>14</td><td>Red</td></tr><tr><td>250</td><td>Cuadro de carretera GA: rojo, 56</td><td>14</td><td>Red</td></tr><tr><td>251</td><td>Cuadro de carretera GA: rojo, 56</td><td>14</td><td>Red</td></tr><tr><td>252</td><td>Cuadro de carretera GA: rojo, 56</td><td>14</td><td>Red</td></tr><tr><td>253</td><td>Cuadro de carretera GB: negro, 58</td><td>14</td><td>Black</td></tr><tr><td>254</td><td>Cuadro de carretera GB: negro, 58</td><td>14</td><td>Black</td></tr><tr><td>255</td><td>Cuadro de carretera GB: negro, 58</td><td>14</td><td>Black</td></tr><tr><td>256</td><td>Cuadro de carretera GB: negro, 60</td><td>14</td><td>Black</td></tr><tr><td>257</td><td>Cuadro de carretera GB: negro, 60</td><td>14</td><td>Black</td></tr><tr><td>258</td><td>Cuadro de carretera GB: negro, 60</td><td>14</td><td>Black</td></tr><tr><td>259</td><td>Cuadro de carretera GB: negro, 62</td><td>14</td><td>Black</td></tr><tr><td>260</td><td>Cuadro de carretera GB: negro, 62</td><td>14</td><td>Black</td></tr><tr><td>261</td><td>Cuadro de carretera GB: negro, 62</td><td>14</td><td>Black</td></tr><tr><td>262</td><td>Cuadro de carretera GB: rojo, 44</td><td>14</td><td>Red</td></tr><tr><td>263</td><td>Cuadro de carretera GB: rojo, 44</td><td>14</td><td>Red</td></tr><tr><td>264</td><td>Cuadro de carretera GB: rojo, 48</td><td>14</td><td>Red</td></tr><tr><td>265</td><td>Cuadro de carretera GB: rojo, 48</td><td>14</td><td>Red</td></tr><tr><td>266</td><td>Cuadro de carretera GB: rojo, 52</td><td>14</td><td>Red</td></tr><tr><td>267</td><td>Cuadro de carretera GB: rojo, 52</td><td>14</td><td>Red</td></tr><tr><td>268</td><td>Cuadro de carretera GB: rojo, 58</td><td>14</td><td>Red</td></tr><tr><td>269</td><td>Cuadro de carretera GB: rojo, 58</td><td>14</td><td>Red</td></tr><tr><td>270</td><td>Cuadro de carretera GB: rojo, 60</td><td>14</td><td>Red</td></tr><tr><td>271</td><td>Cuadro de carretera GB: rojo, 60</td><td>14</td><td>Red</td></tr><tr><td>272</td><td>Cuadro de carretera GB: rojo, 62</td><td>14</td><td>Red</td></tr><tr><td>273</td><td>Cuadro de carretera GB: rojo, 62</td><td>14</td><td>Red</td></tr><tr><td>274</td><td>Cuadro de carretera GM: rojo, 44</td><td>14</td><td>Red</td></tr><tr><td>275</td><td>Cuadro de carretera GM: rojo, 48</td><td>14</td><td>Red</td></tr><tr><td>276</td><td>Cuadro de carretera GM: rojo, 52</td><td>14</td><td>Red</td></tr><tr><td>277</td><td>Cuadro de carretera GM: rojo, 58</td><td>14</td><td>Red</td></tr><tr><td>278</td><td>Cuadro de carretera GM: rojo, 60</td><td>14</td><td>Red</td></tr><tr><td>279</td><td>Cuadro de carretera GB: negro, 44</td><td>14</td><td>Black</td></tr><tr><td>280</td><td>Cuadro de carretera GB: negro, 44</td><td>14</td><td>Black</td></tr><tr><td>281</td><td>Cuadro de carretera GB: negro, 44</td><td>14</td><td>Black</td></tr><tr><td>282</td><td>Cuadro de carretera GB: negro, 48</td><td>14</td><td>Black</td></tr><tr><td>283</td><td>Cuadro de carretera GB: negro, 48</td><td>14</td><td>Black</td></tr><tr><td>284</td><td>Cuadro de carretera GB: negro, 48</td><td>14</td><td>Black</td></tr><tr><td>285</td><td>Cuadro de carretera GB: negro, 52</td><td>14</td><td>Black</td></tr><tr><td>286</td><td>Cuadro de carretera GB: negro, 52</td><td>14</td><td>Black</td></tr><tr><td>287</td><td>Cuadro de carretera GB: negro, 52</td><td>14</td><td>Black</td></tr><tr><td>310</td><td>Carretera: 150, roja, 62</td><td>2</td><td>Red</td></tr><tr><td>311</td><td>Carretera: 150, roja, 44</td><td>2</td><td>Red</td></tr><tr><td>312</td><td>Carretera: 150, roja, 48</td><td>2</td><td>Red</td></tr><tr><td>313</td><td>Carretera: 150, roja, 52</td><td>2</td><td>Red</td></tr><tr><td>314</td><td>Carretera: 150, roja, 56</td><td>2</td><td>Red</td></tr><tr><td>315</td><td>Carretera: 450, roja, 58</td><td>2</td><td>Red</td></tr><tr><td>316</td><td>Carretera: 450, roja, 60</td><td>2</td><td>Red</td></tr><tr><td>317</td><td>Carretera: 450, roja, 44</td><td>2</td><td>Red</td></tr><tr><td>318</td><td>Carretera: 450, roja, 48</td><td>2</td><td>Red</td></tr><tr><td>319</td><td>Carretera: 450, roja, 52</td><td>2</td><td>Red</td></tr><tr><td>320</td><td>Carretera: 650, roja, 58</td><td>2</td><td>Red</td></tr><tr><td>321</td><td>Carretera: 650, roja, 58</td><td>2</td><td>Red</td></tr><tr><td>322</td><td>Carretera: 650, roja, 60</td><td>2</td><td>Red</td></tr><tr><td>323</td><td>Carretera: 650, roja, 60</td><td>2</td><td>Red</td></tr><tr><td>324</td><td>Carretera: 650, roja, 62</td><td>2</td><td>Red</td></tr><tr><td>325</td><td>Carretera: 650, roja, 62</td><td>2</td><td>Red</td></tr><tr><td>326</td><td>Carretera: 650, roja, 44</td><td>2</td><td>Red</td></tr><tr><td>327</td><td>Carretera: 650, roja, 44</td><td>2</td><td>Red</td></tr><tr><td>328</td><td>Carretera: 650, roja, 48</td><td>2</td><td>Red</td></tr><tr><td>329</td><td>Carretera: 650, roja, 48</td><td>2</td><td>Red</td></tr><tr><td>330</td><td>Carretera: 650, roja, 52</td><td>2</td><td>Red</td></tr><tr><td>331</td><td>Carretera: 650, roja, 52</td><td>2</td><td>Red</td></tr><tr><td>332</td><td>Carretera: 650, negra, 58</td><td>2</td><td>Black</td></tr><tr><td>333</td><td>Carretera: 650, negra, 58</td><td>2</td><td>Black</td></tr><tr><td>334</td><td>Carretera: 650, negra, 60</td><td>2</td><td>Black</td></tr><tr><td>335</td><td>Carretera: 650, negra, 60</td><td>2</td><td>Black</td></tr><tr><td>336</td><td>Carretera: 650, negra, 62</td><td>2</td><td>Black</td></tr><tr><td>337</td><td>Carretera: 650, negra, 62</td><td>2</td><td>Black</td></tr><tr><td>338</td><td>Carretera: 650, negra, 44</td><td>2</td><td>Black</td></tr><tr><td>339</td><td>Carretera: 650, negra, 44</td><td>2</td><td>Black</td></tr><tr><td>340</td><td>Carretera: 650, negra, 48</td><td>2</td><td>Black</td></tr><tr><td>341</td><td>Carretera: 650, negra, 48</td><td>2</td><td>Black</td></tr><tr><td>342</td><td>Carretera: 650, negra, 52</td><td>2</td><td>Black</td></tr><tr><td>343</td><td>Carretera: 650, negra, 52</td><td>2</td><td>Black</td></tr><tr><td>344</td><td>Monta�a: 100, plateada, 38</td><td>1</td><td>Silver</td></tr><tr><td>345</td><td>Monta�a: 100, plateada, 42</td><td>1</td><td>Silver</td></tr><tr><td>346</td><td>Monta�a: 100, plateada, 44</td><td>1</td><td>Silver</td></tr><tr><td>347</td><td>Monta�a: 100, plateada, 48</td><td>1</td><td>Silver</td></tr><tr><td>348</td><td>Monta�a: 100, negra, 38</td><td>1</td><td>Black</td></tr><tr><td>349</td><td>Monta�a: 100, negra, 42</td><td>1</td><td>Black</td></tr><tr><td>350</td><td>Monta�a: 100, negra, 44</td><td>1</td><td>Black</td></tr><tr><td>351</td><td>Monta�a: 100, negra, 48</td><td>1</td><td>Black</td></tr><tr><td>352</td><td>Monta�a: 200, plateada, 38</td><td>1</td><td>Silver</td></tr><tr><td>353</td><td>Monta�a: 200, plateada, 38</td><td>1</td><td>Silver</td></tr><tr><td>354</td><td>Monta�a: 200, plateada, 42</td><td>1</td><td>Silver</td></tr><tr><td>355</td><td>Monta�a: 200, plateada, 42</td><td>1</td><td>Silver</td></tr><tr><td>356</td><td>Monta�a: 200, plateada, 46</td><td>1</td><td>Silver</td></tr><tr><td>357</td><td>Monta�a: 200, plateada, 46</td><td>1</td><td>Silver</td></tr><tr><td>358</td><td>Monta�a: 200, negra, 38</td><td>1</td><td>Black</td></tr><tr><td>359</td><td>Monta�a: 200, negra, 38</td><td>1</td><td>Black</td></tr><tr><td>360</td><td>Monta�a: 200, negra, 42</td><td>1</td><td>Black</td></tr><tr><td>361</td><td>Monta�a: 200, negra, 42</td><td>1</td><td>Black</td></tr><tr><td>362</td><td>Monta�a: 200, negra, 46</td><td>1</td><td>Black</td></tr><tr><td>363</td><td>Monta�a: 200, negra, 46</td><td>1</td><td>Black</td></tr><tr><td>364</td><td>Monta�a: 300, negra, 38</td><td>1</td><td>Black</td></tr><tr><td>365</td><td>Monta�a: 300, negra, 40</td><td>1</td><td>Black</td></tr><tr><td>366</td><td>Monta�a: 300, negra, 44</td><td>1</td><td>Black</td></tr><tr><td>367</td><td>Monta�a: 300, negra, 48</td><td>1</td><td>Black</td></tr><tr><td>368</td><td>Carretera: 250, roja, 44</td><td>2</td><td>Red</td></tr><tr><td>369</td><td>Carretera: 250, roja, 48</td><td>2</td><td>Red</td></tr><tr><td>370</td><td>Carretera: 250, roja, 52</td><td>2</td><td>Red</td></tr><tr><td>371</td><td>Carretera: 250, roja, 58</td><td>2</td><td>Red</td></tr><tr><td>372</td><td>Carretera: 250, roja, 58</td><td>2</td><td>Red</td></tr><tr><td>373</td><td>Carretera: 250, negra, 44</td><td>2</td><td>Black</td></tr><tr><td>374</td><td>Carretera: 250, negra, 44</td><td>2</td><td>Black</td></tr><tr><td>375</td><td>Carretera: 250, negra, 48</td><td>2</td><td>Black</td></tr><tr><td>376</td><td>Carretera: 250, negra, 48</td><td>2</td><td>Black</td></tr><tr><td>377</td><td>Carretera: 250, negra, 52</td><td>2</td><td>Black</td></tr><tr><td>378</td><td>Carretera: 250, negra, 52</td><td>2</td><td>Black</td></tr><tr><td>379</td><td>Carretera: 250, negra, 58</td><td>2</td><td>Black</td></tr><tr><td>380</td><td>Carretera: 250, negra, 58</td><td>2</td><td>Black</td></tr><tr><td>381</td><td>Carretera: 550 para mujer, amarilla, 38</td><td>2</td><td>Yellow</td></tr><tr><td>382</td><td>Carretera: 550 para mujer, amarilla, 38</td><td>2</td><td>Yellow</td></tr><tr><td>383</td><td>Carretera: 550 para mujer, amarilla, 40</td><td>2</td><td>Yellow</td></tr><tr><td>384</td><td>Carretera: 550 para mujer, amarilla, 40</td><td>2</td><td>Yellow</td></tr><tr><td>385</td><td>Carretera: 550 para mujer, amarilla, 42</td><td>2</td><td>Yellow</td></tr><tr><td>386</td><td>Carretera: 550 para mujer, amarilla, 42</td><td>2</td><td>Yellow</td></tr><tr><td>387</td><td>Carretera: 550 para mujer, amarilla, 44</td><td>2</td><td>Yellow</td></tr><tr><td>388</td><td>Carretera: 550 para mujer, amarilla, 44</td><td>2</td><td>Yellow</td></tr><tr><td>389</td><td>Carretera: 550 para mujer, amarilla, 48</td><td>2</td><td>Yellow</td></tr><tr><td>390</td><td>Carretera: 550 para mujer, amarilla, 48</td><td>2</td><td>Yellow</td></tr><tr><td>391</td><td>Horquilla GB</td><td>10</td><td>NA</td></tr><tr><td>392</td><td>Horquilla GM</td><td>10</td><td>NA</td></tr><tr><td>393</td><td>Horquilla GA</td><td>10</td><td>NA</td></tr><tr><td>394</td><td>Direcci�n GB</td><td>11</td><td>NA</td></tr><tr><td>395</td><td>Direcci�n GM</td><td>11</td><td>NA</td></tr><tr><td>396</td><td>Direcci�n GA</td><td>11</td><td>NA</td></tr><tr><td>403</td><td>Manillar de carretera GB</td><td>4</td><td>NA</td></tr><tr><td>404</td><td>Manillar de carretera GB</td><td>4</td><td>NA</td></tr><tr><td>405</td><td>Manillar de carretera GM</td><td>4</td><td>NA</td></tr><tr><td>406</td><td>Manillar de carretera GM</td><td>4</td><td>NA</td></tr><tr><td>407</td><td>Manillar de carretera GA</td><td>4</td><td>NA</td></tr><tr><td>408</td><td>Manillar de carretera GA</td><td>4</td><td>NA</td></tr><tr><td>413</td><td>Rueda de carretera delantera GB</td><td>17</td><td>Black</td></tr><tr><td>414</td><td>Rueda de carretera delantera GM</td><td>17</td><td>Black</td></tr><tr><td>415</td><td>Rueda de carretera delantera GA</td><td>17</td><td>Black</td></tr><tr><td>416</td><td>Rueda de paseo delantera</td><td>17</td><td>Black</td></tr><tr><td>417</td><td>Cuadro de carretera para mujer GM: amarillo, 38</td><td>14</td><td>Yellow</td></tr><tr><td>418</td><td>Cuadro de carretera para mujer GM: amarillo, 38</td><td>14</td><td>Yellow</td></tr><tr><td>422</td><td>Rueda de carretera trasera GB</td><td>17</td><td>Black</td></tr><tr><td>423</td><td>Rueda de carretera trasera GM</td><td>17</td><td>Black</td></tr><tr><td>424</td><td>Rueda de carretera trasera GA</td><td>17</td><td>Black</td></tr><tr><td>425</td><td>Rueda de paseo trasera</td><td>17</td><td>Black</td></tr><tr><td>429</td><td>Cuadro de carretera para mujer GM: amarillo, 40</td><td>14</td><td>Yellow</td></tr><tr><td>430</td><td>Cuadro de carretera para mujer GM: amarillo, 40</td><td>14</td><td>Yellow</td></tr><tr><td>431</td><td>Cuadro de carretera para mujer GM: amarillo, 42</td><td>14</td><td>Yellow</td></tr><tr><td>432</td><td>Cuadro de carretera para mujer GM: amarillo, 42</td><td>14</td><td>Yellow</td></tr><tr><td>433</td><td>Cuadro de carretera para mujer GM: amarillo, 44</td><td>14</td><td>Yellow</td></tr><tr><td>434</td><td>Cuadro de carretera para mujer GM: amarillo, 44</td><td>14</td><td>Yellow</td></tr><tr><td>435</td><td>Cuadro de carretera para mujer GM: amarillo, 48</td><td>14</td><td>Yellow</td></tr><tr><td>436</td><td>Cuadro de carretera para mujer GM: amarillo, 48</td><td>14</td><td>Yellow</td></tr><tr><td>437</td><td>Cuadro de carretera GA: negro, 62</td><td>14</td><td>Black</td></tr><tr><td>438</td><td>Cuadro de carretera GA: negro, 62</td><td>14</td><td>Black</td></tr><tr><td>439</td><td>Cuadro de carretera GA: negro, 44</td><td>14</td><td>Black</td></tr><tr><td>440</td><td>Cuadro de carretera GA: negro, 44</td><td>14</td><td>Black</td></tr><tr><td>441</td><td>Cuadro de carretera GA: negro, 48</td><td>14</td><td>Black</td></tr><tr><td>442</td><td>Cuadro de carretera GA: negro, 48</td><td>14</td><td>Black</td></tr><tr><td>443</td><td>Cuadro de carretera GA: negro, 52</td><td>14</td><td>Black</td></tr><tr><td>444</td><td>Cuadro de carretera GA: negro, 52</td><td>14</td><td>Black</td></tr><tr><td>445</td><td>Pantalones cortos de deporte para hombre, P</td><td>22</td><td>Black</td></tr><tr><td>446</td><td>Cesta de paseo, grande</td><td>35</td><td>Grey</td></tr><tr><td>447</td><td>Cable antirrobo</td><td>34</td><td>NA</td></tr><tr><td>449</td><td>Bomba de monta�a</td><td>36</td><td>NA</td></tr><tr><td>451</td><td>Luces: doble haz</td><td>33</td><td>NA</td></tr><tr><td>452</td><td>Luces: resistentes al agua</td><td>33</td><td>NA</td></tr><tr><td>453</td><td>Pantalones cortos de deporte para hombre, M</td><td>22</td><td>Black</td></tr><tr><td>454</td><td>Pantalones cortos de deporte para hombre, G</td><td>22</td><td>Black</td></tr><tr><td>455</td><td>Pantalones cortos de deporte para hombre, SG</td><td>22</td><td>Black</td></tr><tr><td>456</td><td>Mallas para mujer, P</td><td>24</td><td>Black</td></tr><tr><td>457</td><td>Mallas para mujer, M</td><td>24</td><td>Black</td></tr><tr><td>458</td><td>Mallas para mujer, G</td><td>24</td><td>Black</td></tr><tr><td>468</td><td>Guantes completos, P</td><td>20</td><td>Black</td></tr><tr><td>469</td><td>Guantes completos, M</td><td>20</td><td>Black</td></tr><tr><td>470</td><td>Guantes completos, G</td><td>20</td><td>Black</td></tr><tr><td>471</td><td>Camiseta cl�sica, P</td><td>25</td><td>Blue</td></tr><tr><td>472</td><td>Camiseta cl�sica, M</td><td>25</td><td>Blue</td></tr><tr><td>473</td><td>Camiseta cl�sica, G</td><td>25</td><td>Blue</td></tr><tr><td>478</td><td>Portabotellas de monta�a</td><td>28</td><td>NA</td></tr><tr><td>479</td><td>Portabotellas de carretera</td><td>28</td><td>NA</td></tr><tr><td>481</td><td>Calcetines para carreras, M</td><td>23</td><td>White</td></tr><tr><td>482</td><td>Calcetines para carreras, G</td><td>23</td><td>White</td></tr><tr><td>484</td><td>Lavado de bicicletas: disolvente</td><td>29</td><td>NA</td></tr><tr><td>485</td><td>Conjunto de guardabarros: monta�a</td><td>30</td><td>NA</td></tr><tr><td>486</td><td>Soporte multiusos para bicicletas</td><td>27</td><td>NA</td></tr><tr><td>488</td><td>Jersey cl�sico de manga corta, P</td><td>21</td><td>Yellow</td></tr><tr><td>489</td><td>Jersey cl�sico de manga corta, M</td><td>21</td><td>Yellow</td></tr><tr><td>490</td><td>Jersey cl�sico de manga corta, G</td><td>21</td><td>Yellow</td></tr><tr><td>491</td><td>Jersey cl�sico de manga corta, SG</td><td>21</td><td>Yellow</td></tr><tr><td>492</td><td>Cuadro de paseo GA: amarillo, 60</td><td>16</td><td>Yellow</td></tr><tr><td>493</td><td>Cuadro de paseo GB: amarillo, 62</td><td>16</td><td>Yellow</td></tr><tr><td>494</td><td>Cuadro de paseo GA: amarillo, 46</td><td>16</td><td>Yellow</td></tr><tr><td>495</td><td>Cuadro de paseo GA: amarillo, 50</td><td>16</td><td>Yellow</td></tr><tr><td>496</td><td>Cuadro de paseo GA: amarillo, 54</td><td>16</td><td>Yellow</td></tr><tr><td>497</td><td>Cuadro de paseo GA: azul, 46</td><td>16</td><td>Blue</td></tr><tr><td>498</td><td>Cuadro de paseo GA: azul, 50</td><td>16</td><td>Blue</td></tr><tr><td>499</td><td>Cuadro de paseo GA: azul, 54</td><td>16</td><td>Blue</td></tr><tr><td>500</td><td>Cuadro de paseo GA: azul, 60</td><td>16</td><td>Blue</td></tr><tr><td>501</td><td>Desviador trasero</td><td>9</td><td>Silver</td></tr><tr><td>502</td><td>Cuadro de paseo GB: azul, 50</td><td>16</td><td>Blue</td></tr><tr><td>503</td><td>Cuadro de paseo GB: azul, 54</td><td>16</td><td>Blue</td></tr><tr><td>504</td><td>Cuadro de paseo GB: azul, 58</td><td>16</td><td>Blue</td></tr><tr><td>505</td><td>Cuadro de paseo GB: azul, 62</td><td>16</td><td>Blue</td></tr><tr><td>506</td><td>Cuadro de paseo GB: amarillo, 44</td><td>16</td><td>Yellow</td></tr><tr><td>507</td><td>Cuadro de paseo GB: amarillo, 50</td><td>16</td><td>Yellow</td></tr><tr><td>508</td><td>Cuadro de paseo GB: amarillo, 54</td><td>16</td><td>Yellow</td></tr><tr><td>509</td><td>Cuadro de paseo GB: amarillo, 58</td><td>16</td><td>Yellow</td></tr><tr><td>510</td><td>Cuadro de paseo GB: azul, 44</td><td>16</td><td>Blue</td></tr><tr><td>514</td><td>Frenos traseros</td><td>6</td><td>Silver</td></tr><tr><td>518</td><td>Sill�n/asiento de carretera GB</td><td>15</td><td>NA</td></tr><tr><td>519</td><td>Sill�n/asiento de carretera GM</td><td>15</td><td>NA</td></tr><tr><td>520</td><td>Sill�n/asiento de carretera GA</td><td>15</td><td>NA</td></tr><tr><td>521</td><td>Sill�n/asiento de paseo GB</td><td>15</td><td>NA</td></tr><tr><td>522</td><td>Sill�n/asiento de paseo GM</td><td>15</td><td>NA</td></tr><tr><td>523</td><td>Sill�n/asiento de paseo GA</td><td>15</td><td>NA</td></tr><tr><td>528</td><td>Cubierta para c�mara de monta�a</td><td>37</td><td>NA</td></tr><tr><td>529</td><td>Cubierta para c�mara de carretera</td><td>37</td><td>NA</td></tr><tr><td>530</td><td>Cubierta para c�mara de paseo</td><td>37</td><td>NA</td></tr><tr><td>535</td><td>Cubierta de monta�a GB</td><td>37</td><td>NA</td></tr><tr><td>536</td><td>Cubierta de monta�a GM</td><td>37</td><td>NA</td></tr><tr><td>537</td><td>Cubierta de monta�a GA</td><td>37</td><td>NA</td></tr><tr><td>538</td><td>Cubierta de carretera GB</td><td>37</td><td>NA</td></tr><tr><td>539</td><td>Cubierta de carretera GM</td><td>37</td><td>NA</td></tr><tr><td>540</td><td>Cubierta de carretera GA</td><td>37</td><td>NA</td></tr><tr><td>541</td><td>Cubierta de paseo</td><td>37</td><td>NA</td></tr><tr><td>542</td><td>Pedal de monta�a GB</td><td>13</td><td>Silver/Black</td></tr><tr><td>543</td><td>Pedal de monta�a GM</td><td>13</td><td>Silver/Black</td></tr><tr><td>544</td><td>Pedal de monta�a GA</td><td>13</td><td>Silver/Black</td></tr><tr><td>545</td><td>Pedal de carretera GB</td><td>13</td><td>Silver/Black</td></tr><tr><td>546</td><td>Pedal de carretera GM</td><td>13</td><td>Silver/Black</td></tr><tr><td>547</td><td>Pedal de carretera GA</td><td>13</td><td>Silver/Black</td></tr><tr><td>548</td><td>Pedal de paseo</td><td>13</td><td>Silver/Black</td></tr><tr><td>552</td><td>Desviador delantero</td><td>9</td><td>Silver</td></tr><tr><td>553</td><td>Manillar de paseo GB</td><td>4</td><td>NA</td></tr><tr><td>554</td><td>Manillar de paseo GA</td><td>4</td><td>NA</td></tr><tr><td>555</td><td>Frenos delanteros</td><td>6</td><td>Silver</td></tr><tr><td>556</td><td>Bielas GB</td><td>8</td><td>Black</td></tr><tr><td>557</td><td>Bielas GM</td><td>8</td><td>Black</td></tr><tr><td>558</td><td>Bielas GA</td><td>8</td><td>Black</td></tr><tr><td>559</td><td>Cadena</td><td>7</td><td>Silver</td></tr><tr><td>560</td><td>Paseo: 2000, azul, 60</td><td>3</td><td>Blue</td></tr><tr><td>561</td><td>Paseo: 1000, amarilla, 46</td><td>3</td><td>Yellow</td></tr><tr><td>562</td><td>Paseo: 1000, amarilla, 50</td><td>3</td><td>Yellow</td></tr><tr><td>563</td><td>Paseo: 1000, amarilla, 54</td><td>3</td><td>Yellow</td></tr><tr><td>564</td><td>Paseo: 1000, amarilla, 60</td><td>3</td><td>Yellow</td></tr><tr><td>565</td><td>Paseo: 3000, azul, 54</td><td>3</td><td>Blue</td></tr><tr><td>566</td><td>Paseo: 3000, azul, 58</td><td>3</td><td>Blue</td></tr><tr><td>567</td><td>Paseo: 3000, azul, 62</td><td>3</td><td>Blue</td></tr><tr><td>568</td><td>Paseo: 3000, amarilla, 44</td><td>3</td><td>Yellow</td></tr><tr><td>569</td><td>Paseo: 3000, amarilla, 50</td><td>3</td><td>Yellow</td></tr><tr><td>570</td><td>Paseo: 3000, amarilla, 54</td><td>3</td><td>Yellow</td></tr><tr><td>571</td><td>Paseo: 3000, amarilla, 58</td><td>3</td><td>Yellow</td></tr><tr><td>572</td><td>Paseo: 3000, amarilla, 62</td><td>3</td><td>Yellow</td></tr><tr><td>573</td><td>Paseo: 1000, azul, 46</td><td>3</td><td>Blue</td></tr><tr><td>574</td><td>Paseo: 1000, azul, 50</td><td>3</td><td>Blue</td></tr><tr><td>575</td><td>Paseo: 1000, azul, 54</td><td>3</td><td>Blue</td></tr><tr><td>576</td><td>Paseo: 1000, azul, 60</td><td>3</td><td>Blue</td></tr><tr><td>577</td><td>Paseo: 2000, azul, 46</td><td>3</td><td>Blue</td></tr><tr><td>578</td><td>Paseo: 2000, azul, 50</td><td>3</td><td>Blue</td></tr><tr><td>579</td><td>Paseo: 2000, azul, 54</td><td>3</td><td>Blue</td></tr><tr><td>580</td><td>Carretera: 350 para mujer, amarilla, 40</td><td>2</td><td>Yellow</td></tr><tr><td>581</td><td>Carretera: 350 para mujer, amarilla, 42</td><td>2</td><td>Yellow</td></tr><tr><td>582</td><td>Carretera: 350 para mujer, amarilla, 44</td><td>2</td><td>Yellow</td></tr><tr><td>583</td><td>Carretera: 350 para mujer, amarilla, 48</td><td>2</td><td>Yellow</td></tr><tr><td>584</td><td>Carretera: 750, negra, 58</td><td>2</td><td>Black</td></tr><tr><td>585</td><td>Paseo: 3000, azul, 44</td><td>3</td><td>Blue</td></tr><tr><td>586</td><td>Paseo: 3000, azul, 50</td><td>3</td><td>Blue</td></tr><tr><td>587</td><td>Monta�a: 400 para mujer, plateada, 38</td><td>1</td><td>Silver</td></tr><tr><td>588</td><td>Monta�a: 400 para mujer, plateada, 40</td><td>1</td><td>Silver</td></tr><tr><td>589</td><td>Monta�a: 400 para mujer, plateada, 42</td><td>1</td><td>Silver</td></tr><tr><td>590</td><td>Monta�a: 400 para mujer, plateada, 46</td><td>1</td><td>Silver</td></tr><tr><td>591</td><td>Monta�a: 500, plateada, 40</td><td>1</td><td>Silver</td></tr><tr><td>592</td><td>Monta�a: 500, plateada, 42</td><td>1</td><td>Silver</td></tr><tr><td>593</td><td>Monta�a: 500, plateada, 44</td><td>1</td><td>Silver</td></tr><tr><td>594</td><td>Monta�a: 500, plateada, 48</td><td>1</td><td>Silver</td></tr><tr><td>595</td><td>Monta�a: 500, plateada, 52</td><td>1</td><td>Silver</td></tr><tr><td>596</td><td>Monta�a: 500, negra, 40</td><td>1</td><td>Black</td></tr><tr><td>597</td><td>Monta�a: 500, negra, 42</td><td>1</td><td>Black</td></tr><tr><td>598</td><td>Monta�a: 500, negra, 44</td><td>1</td><td>Black</td></tr><tr><td>599</td><td>Monta�a: 500, negra, 48</td><td>1</td><td>Black</td></tr><tr><td>600</td><td>Monta�a: 500, negra, 52</td><td>1</td><td>Black</td></tr><tr><td>601</td><td>Eje de pedalier GB</td><td>5</td><td>NA</td></tr><tr><td>602</td><td>Eje de pedalier GM</td><td>5</td><td>NA</td></tr><tr><td>603</td><td>Eje de pedalier GA</td><td>5</td><td>NA</td></tr><tr><td>604</td><td>Carretera: 750, negra, 44</td><td>2</td><td>Black</td></tr><tr><td>605</td><td>Carretera: 750, negra, 48</td><td>2</td><td>Black</td></tr><tr><td>606</td><td>Carretera: 750, negra, 52</td><td>2</td><td>Black</td></tr></tbody></table></div>"
      ]
     },
     "metadata": {
      "application/vnd.databricks.v1+output": {
       "addedWidgets": {},
       "aggData": [],
       "aggError": "",
       "aggOverflow": false,
       "aggSchema": [],
       "aggSeriesLimitReached": false,
       "aggType": "",
       "arguments": {},
       "columnCustomDisplayInfos": {},
       "data": [
        [
         "212",
         "Casco deportivo: 100, rojo",
         "31",
         "Red"
        ],
        [
         "213",
         "Casco deportivo: 100, rojo",
         "31",
         "Red"
        ],
        [
         "214",
         "Casco deportivo: 100, rojo",
         "31",
         "Red"
        ],
        [
         "215",
         "Casco deportivo: 100, negro",
         "31",
         "Black"
        ],
        [
         "216",
         "Casco deportivo: 100, negro",
         "31",
         "Black"
        ],
        [
         "217",
         "Casco deportivo: 100, negro",
         "31",
         "Black"
        ],
        [
         "218",
         "Calcetines para bicicleta de monta�a, M",
         "23",
         "White"
        ],
        [
         "219",
         "Calcetines para bicicleta de monta�a, G",
         "23",
         "White"
        ],
        [
         "220",
         "Casco deportivo: 100, azul",
         "31",
         "Blue"
        ],
        [
         "221",
         "Casco deportivo: 100, azul",
         "31",
         "Blue"
        ],
        [
         "222",
         "Casco deportivo: 100, azul",
         "31",
         "Blue"
        ],
        [
         "226",
         "Jersey con logotipo de manga larga, P",
         "21",
         "Multi"
        ],
        [
         "227",
         "Jersey con logotipo de manga larga, P",
         "21",
         "Multi"
        ],
        [
         "228",
         "Jersey con logotipo de manga larga, P",
         "21",
         "Multi"
        ],
        [
         "229",
         "Jersey con logotipo de manga larga, M",
         "21",
         "Multi"
        ],
        [
         "230",
         "Jersey con logotipo de manga larga, M",
         "21",
         "Multi"
        ],
        [
         "231",
         "Jersey con logotipo de manga larga, M",
         "21",
         "Multi"
        ],
        [
         "232",
         "Jersey con logotipo de manga larga, G",
         "21",
         "Multi"
        ],
        [
         "233",
         "Jersey con logotipo de manga larga, G",
         "21",
         "Multi"
        ],
        [
         "234",
         "Jersey con logotipo de manga larga, G",
         "21",
         "Multi"
        ],
        [
         "235",
         "Jersey con logotipo de manga larga, SG",
         "21",
         "Multi"
        ],
        [
         "236",
         "Jersey con logotipo de manga larga, SG",
         "21",
         "Multi"
        ],
        [
         "237",
         "Jersey con logotipo de manga larga, SG",
         "21",
         "Multi"
        ],
        [
         "238",
         "Cuadro de carretera GA: rojo, 62",
         "14",
         "Red"
        ],
        [
         "239",
         "Cuadro de carretera GA: rojo, 62",
         "14",
         "Red"
        ],
        [
         "240",
         "Cuadro de carretera GA: rojo, 62",
         "14",
         "Red"
        ],
        [
         "241",
         "Cuadro de carretera GA: rojo, 44",
         "14",
         "Red"
        ],
        [
         "242",
         "Cuadro de carretera GA: rojo, 44",
         "14",
         "Red"
        ],
        [
         "243",
         "Cuadro de carretera GA: rojo, 44",
         "14",
         "Red"
        ],
        [
         "244",
         "Cuadro de carretera GA: rojo, 48",
         "14",
         "Red"
        ],
        [
         "245",
         "Cuadro de carretera GA: rojo, 48",
         "14",
         "Red"
        ],
        [
         "246",
         "Cuadro de carretera GA: rojo, 48",
         "14",
         "Red"
        ],
        [
         "247",
         "Cuadro de carretera GA: rojo, 52",
         "14",
         "Red"
        ],
        [
         "248",
         "Cuadro de carretera GA: rojo, 52",
         "14",
         "Red"
        ],
        [
         "249",
         "Cuadro de carretera GA: rojo, 52",
         "14",
         "Red"
        ],
        [
         "250",
         "Cuadro de carretera GA: rojo, 56",
         "14",
         "Red"
        ],
        [
         "251",
         "Cuadro de carretera GA: rojo, 56",
         "14",
         "Red"
        ],
        [
         "252",
         "Cuadro de carretera GA: rojo, 56",
         "14",
         "Red"
        ],
        [
         "253",
         "Cuadro de carretera GB: negro, 58",
         "14",
         "Black"
        ],
        [
         "254",
         "Cuadro de carretera GB: negro, 58",
         "14",
         "Black"
        ],
        [
         "255",
         "Cuadro de carretera GB: negro, 58",
         "14",
         "Black"
        ],
        [
         "256",
         "Cuadro de carretera GB: negro, 60",
         "14",
         "Black"
        ],
        [
         "257",
         "Cuadro de carretera GB: negro, 60",
         "14",
         "Black"
        ],
        [
         "258",
         "Cuadro de carretera GB: negro, 60",
         "14",
         "Black"
        ],
        [
         "259",
         "Cuadro de carretera GB: negro, 62",
         "14",
         "Black"
        ],
        [
         "260",
         "Cuadro de carretera GB: negro, 62",
         "14",
         "Black"
        ],
        [
         "261",
         "Cuadro de carretera GB: negro, 62",
         "14",
         "Black"
        ],
        [
         "262",
         "Cuadro de carretera GB: rojo, 44",
         "14",
         "Red"
        ],
        [
         "263",
         "Cuadro de carretera GB: rojo, 44",
         "14",
         "Red"
        ],
        [
         "264",
         "Cuadro de carretera GB: rojo, 48",
         "14",
         "Red"
        ],
        [
         "265",
         "Cuadro de carretera GB: rojo, 48",
         "14",
         "Red"
        ],
        [
         "266",
         "Cuadro de carretera GB: rojo, 52",
         "14",
         "Red"
        ],
        [
         "267",
         "Cuadro de carretera GB: rojo, 52",
         "14",
         "Red"
        ],
        [
         "268",
         "Cuadro de carretera GB: rojo, 58",
         "14",
         "Red"
        ],
        [
         "269",
         "Cuadro de carretera GB: rojo, 58",
         "14",
         "Red"
        ],
        [
         "270",
         "Cuadro de carretera GB: rojo, 60",
         "14",
         "Red"
        ],
        [
         "271",
         "Cuadro de carretera GB: rojo, 60",
         "14",
         "Red"
        ],
        [
         "272",
         "Cuadro de carretera GB: rojo, 62",
         "14",
         "Red"
        ],
        [
         "273",
         "Cuadro de carretera GB: rojo, 62",
         "14",
         "Red"
        ],
        [
         "274",
         "Cuadro de carretera GM: rojo, 44",
         "14",
         "Red"
        ],
        [
         "275",
         "Cuadro de carretera GM: rojo, 48",
         "14",
         "Red"
        ],
        [
         "276",
         "Cuadro de carretera GM: rojo, 52",
         "14",
         "Red"
        ],
        [
         "277",
         "Cuadro de carretera GM: rojo, 58",
         "14",
         "Red"
        ],
        [
         "278",
         "Cuadro de carretera GM: rojo, 60",
         "14",
         "Red"
        ],
        [
         "279",
         "Cuadro de carretera GB: negro, 44",
         "14",
         "Black"
        ],
        [
         "280",
         "Cuadro de carretera GB: negro, 44",
         "14",
         "Black"
        ],
        [
         "281",
         "Cuadro de carretera GB: negro, 44",
         "14",
         "Black"
        ],
        [
         "282",
         "Cuadro de carretera GB: negro, 48",
         "14",
         "Black"
        ],
        [
         "283",
         "Cuadro de carretera GB: negro, 48",
         "14",
         "Black"
        ],
        [
         "284",
         "Cuadro de carretera GB: negro, 48",
         "14",
         "Black"
        ],
        [
         "285",
         "Cuadro de carretera GB: negro, 52",
         "14",
         "Black"
        ],
        [
         "286",
         "Cuadro de carretera GB: negro, 52",
         "14",
         "Black"
        ],
        [
         "287",
         "Cuadro de carretera GB: negro, 52",
         "14",
         "Black"
        ],
        [
         "310",
         "Carretera: 150, roja, 62",
         "2",
         "Red"
        ],
        [
         "311",
         "Carretera: 150, roja, 44",
         "2",
         "Red"
        ],
        [
         "312",
         "Carretera: 150, roja, 48",
         "2",
         "Red"
        ],
        [
         "313",
         "Carretera: 150, roja, 52",
         "2",
         "Red"
        ],
        [
         "314",
         "Carretera: 150, roja, 56",
         "2",
         "Red"
        ],
        [
         "315",
         "Carretera: 450, roja, 58",
         "2",
         "Red"
        ],
        [
         "316",
         "Carretera: 450, roja, 60",
         "2",
         "Red"
        ],
        [
         "317",
         "Carretera: 450, roja, 44",
         "2",
         "Red"
        ],
        [
         "318",
         "Carretera: 450, roja, 48",
         "2",
         "Red"
        ],
        [
         "319",
         "Carretera: 450, roja, 52",
         "2",
         "Red"
        ],
        [
         "320",
         "Carretera: 650, roja, 58",
         "2",
         "Red"
        ],
        [
         "321",
         "Carretera: 650, roja, 58",
         "2",
         "Red"
        ],
        [
         "322",
         "Carretera: 650, roja, 60",
         "2",
         "Red"
        ],
        [
         "323",
         "Carretera: 650, roja, 60",
         "2",
         "Red"
        ],
        [
         "324",
         "Carretera: 650, roja, 62",
         "2",
         "Red"
        ],
        [
         "325",
         "Carretera: 650, roja, 62",
         "2",
         "Red"
        ],
        [
         "326",
         "Carretera: 650, roja, 44",
         "2",
         "Red"
        ],
        [
         "327",
         "Carretera: 650, roja, 44",
         "2",
         "Red"
        ],
        [
         "328",
         "Carretera: 650, roja, 48",
         "2",
         "Red"
        ],
        [
         "329",
         "Carretera: 650, roja, 48",
         "2",
         "Red"
        ],
        [
         "330",
         "Carretera: 650, roja, 52",
         "2",
         "Red"
        ],
        [
         "331",
         "Carretera: 650, roja, 52",
         "2",
         "Red"
        ],
        [
         "332",
         "Carretera: 650, negra, 58",
         "2",
         "Black"
        ],
        [
         "333",
         "Carretera: 650, negra, 58",
         "2",
         "Black"
        ],
        [
         "334",
         "Carretera: 650, negra, 60",
         "2",
         "Black"
        ],
        [
         "335",
         "Carretera: 650, negra, 60",
         "2",
         "Black"
        ],
        [
         "336",
         "Carretera: 650, negra, 62",
         "2",
         "Black"
        ],
        [
         "337",
         "Carretera: 650, negra, 62",
         "2",
         "Black"
        ],
        [
         "338",
         "Carretera: 650, negra, 44",
         "2",
         "Black"
        ],
        [
         "339",
         "Carretera: 650, negra, 44",
         "2",
         "Black"
        ],
        [
         "340",
         "Carretera: 650, negra, 48",
         "2",
         "Black"
        ],
        [
         "341",
         "Carretera: 650, negra, 48",
         "2",
         "Black"
        ],
        [
         "342",
         "Carretera: 650, negra, 52",
         "2",
         "Black"
        ],
        [
         "343",
         "Carretera: 650, negra, 52",
         "2",
         "Black"
        ],
        [
         "344",
         "Monta�a: 100, plateada, 38",
         "1",
         "Silver"
        ],
        [
         "345",
         "Monta�a: 100, plateada, 42",
         "1",
         "Silver"
        ],
        [
         "346",
         "Monta�a: 100, plateada, 44",
         "1",
         "Silver"
        ],
        [
         "347",
         "Monta�a: 100, plateada, 48",
         "1",
         "Silver"
        ],
        [
         "348",
         "Monta�a: 100, negra, 38",
         "1",
         "Black"
        ],
        [
         "349",
         "Monta�a: 100, negra, 42",
         "1",
         "Black"
        ],
        [
         "350",
         "Monta�a: 100, negra, 44",
         "1",
         "Black"
        ],
        [
         "351",
         "Monta�a: 100, negra, 48",
         "1",
         "Black"
        ],
        [
         "352",
         "Monta�a: 200, plateada, 38",
         "1",
         "Silver"
        ],
        [
         "353",
         "Monta�a: 200, plateada, 38",
         "1",
         "Silver"
        ],
        [
         "354",
         "Monta�a: 200, plateada, 42",
         "1",
         "Silver"
        ],
        [
         "355",
         "Monta�a: 200, plateada, 42",
         "1",
         "Silver"
        ],
        [
         "356",
         "Monta�a: 200, plateada, 46",
         "1",
         "Silver"
        ],
        [
         "357",
         "Monta�a: 200, plateada, 46",
         "1",
         "Silver"
        ],
        [
         "358",
         "Monta�a: 200, negra, 38",
         "1",
         "Black"
        ],
        [
         "359",
         "Monta�a: 200, negra, 38",
         "1",
         "Black"
        ],
        [
         "360",
         "Monta�a: 200, negra, 42",
         "1",
         "Black"
        ],
        [
         "361",
         "Monta�a: 200, negra, 42",
         "1",
         "Black"
        ],
        [
         "362",
         "Monta�a: 200, negra, 46",
         "1",
         "Black"
        ],
        [
         "363",
         "Monta�a: 200, negra, 46",
         "1",
         "Black"
        ],
        [
         "364",
         "Monta�a: 300, negra, 38",
         "1",
         "Black"
        ],
        [
         "365",
         "Monta�a: 300, negra, 40",
         "1",
         "Black"
        ],
        [
         "366",
         "Monta�a: 300, negra, 44",
         "1",
         "Black"
        ],
        [
         "367",
         "Monta�a: 300, negra, 48",
         "1",
         "Black"
        ],
        [
         "368",
         "Carretera: 250, roja, 44",
         "2",
         "Red"
        ],
        [
         "369",
         "Carretera: 250, roja, 48",
         "2",
         "Red"
        ],
        [
         "370",
         "Carretera: 250, roja, 52",
         "2",
         "Red"
        ],
        [
         "371",
         "Carretera: 250, roja, 58",
         "2",
         "Red"
        ],
        [
         "372",
         "Carretera: 250, roja, 58",
         "2",
         "Red"
        ],
        [
         "373",
         "Carretera: 250, negra, 44",
         "2",
         "Black"
        ],
        [
         "374",
         "Carretera: 250, negra, 44",
         "2",
         "Black"
        ],
        [
         "375",
         "Carretera: 250, negra, 48",
         "2",
         "Black"
        ],
        [
         "376",
         "Carretera: 250, negra, 48",
         "2",
         "Black"
        ],
        [
         "377",
         "Carretera: 250, negra, 52",
         "2",
         "Black"
        ],
        [
         "378",
         "Carretera: 250, negra, 52",
         "2",
         "Black"
        ],
        [
         "379",
         "Carretera: 250, negra, 58",
         "2",
         "Black"
        ],
        [
         "380",
         "Carretera: 250, negra, 58",
         "2",
         "Black"
        ],
        [
         "381",
         "Carretera: 550 para mujer, amarilla, 38",
         "2",
         "Yellow"
        ],
        [
         "382",
         "Carretera: 550 para mujer, amarilla, 38",
         "2",
         "Yellow"
        ],
        [
         "383",
         "Carretera: 550 para mujer, amarilla, 40",
         "2",
         "Yellow"
        ],
        [
         "384",
         "Carretera: 550 para mujer, amarilla, 40",
         "2",
         "Yellow"
        ],
        [
         "385",
         "Carretera: 550 para mujer, amarilla, 42",
         "2",
         "Yellow"
        ],
        [
         "386",
         "Carretera: 550 para mujer, amarilla, 42",
         "2",
         "Yellow"
        ],
        [
         "387",
         "Carretera: 550 para mujer, amarilla, 44",
         "2",
         "Yellow"
        ],
        [
         "388",
         "Carretera: 550 para mujer, amarilla, 44",
         "2",
         "Yellow"
        ],
        [
         "389",
         "Carretera: 550 para mujer, amarilla, 48",
         "2",
         "Yellow"
        ],
        [
         "390",
         "Carretera: 550 para mujer, amarilla, 48",
         "2",
         "Yellow"
        ],
        [
         "391",
         "Horquilla GB",
         "10",
         "NA"
        ],
        [
         "392",
         "Horquilla GM",
         "10",
         "NA"
        ],
        [
         "393",
         "Horquilla GA",
         "10",
         "NA"
        ],
        [
         "394",
         "Direcci�n GB",
         "11",
         "NA"
        ],
        [
         "395",
         "Direcci�n GM",
         "11",
         "NA"
        ],
        [
         "396",
         "Direcci�n GA",
         "11",
         "NA"
        ],
        [
         "403",
         "Manillar de carretera GB",
         "4",
         "NA"
        ],
        [
         "404",
         "Manillar de carretera GB",
         "4",
         "NA"
        ],
        [
         "405",
         "Manillar de carretera GM",
         "4",
         "NA"
        ],
        [
         "406",
         "Manillar de carretera GM",
         "4",
         "NA"
        ],
        [
         "407",
         "Manillar de carretera GA",
         "4",
         "NA"
        ],
        [
         "408",
         "Manillar de carretera GA",
         "4",
         "NA"
        ],
        [
         "413",
         "Rueda de carretera delantera GB",
         "17",
         "Black"
        ],
        [
         "414",
         "Rueda de carretera delantera GM",
         "17",
         "Black"
        ],
        [
         "415",
         "Rueda de carretera delantera GA",
         "17",
         "Black"
        ],
        [
         "416",
         "Rueda de paseo delantera",
         "17",
         "Black"
        ],
        [
         "417",
         "Cuadro de carretera para mujer GM: amarillo, 38",
         "14",
         "Yellow"
        ],
        [
         "418",
         "Cuadro de carretera para mujer GM: amarillo, 38",
         "14",
         "Yellow"
        ],
        [
         "422",
         "Rueda de carretera trasera GB",
         "17",
         "Black"
        ],
        [
         "423",
         "Rueda de carretera trasera GM",
         "17",
         "Black"
        ],
        [
         "424",
         "Rueda de carretera trasera GA",
         "17",
         "Black"
        ],
        [
         "425",
         "Rueda de paseo trasera",
         "17",
         "Black"
        ],
        [
         "429",
         "Cuadro de carretera para mujer GM: amarillo, 40",
         "14",
         "Yellow"
        ],
        [
         "430",
         "Cuadro de carretera para mujer GM: amarillo, 40",
         "14",
         "Yellow"
        ],
        [
         "431",
         "Cuadro de carretera para mujer GM: amarillo, 42",
         "14",
         "Yellow"
        ],
        [
         "432",
         "Cuadro de carretera para mujer GM: amarillo, 42",
         "14",
         "Yellow"
        ],
        [
         "433",
         "Cuadro de carretera para mujer GM: amarillo, 44",
         "14",
         "Yellow"
        ],
        [
         "434",
         "Cuadro de carretera para mujer GM: amarillo, 44",
         "14",
         "Yellow"
        ],
        [
         "435",
         "Cuadro de carretera para mujer GM: amarillo, 48",
         "14",
         "Yellow"
        ],
        [
         "436",
         "Cuadro de carretera para mujer GM: amarillo, 48",
         "14",
         "Yellow"
        ],
        [
         "437",
         "Cuadro de carretera GA: negro, 62",
         "14",
         "Black"
        ],
        [
         "438",
         "Cuadro de carretera GA: negro, 62",
         "14",
         "Black"
        ],
        [
         "439",
         "Cuadro de carretera GA: negro, 44",
         "14",
         "Black"
        ],
        [
         "440",
         "Cuadro de carretera GA: negro, 44",
         "14",
         "Black"
        ],
        [
         "441",
         "Cuadro de carretera GA: negro, 48",
         "14",
         "Black"
        ],
        [
         "442",
         "Cuadro de carretera GA: negro, 48",
         "14",
         "Black"
        ],
        [
         "443",
         "Cuadro de carretera GA: negro, 52",
         "14",
         "Black"
        ],
        [
         "444",
         "Cuadro de carretera GA: negro, 52",
         "14",
         "Black"
        ],
        [
         "445",
         "Pantalones cortos de deporte para hombre, P",
         "22",
         "Black"
        ],
        [
         "446",
         "Cesta de paseo, grande",
         "35",
         "Grey"
        ],
        [
         "447",
         "Cable antirrobo",
         "34",
         "NA"
        ],
        [
         "449",
         "Bomba de monta�a",
         "36",
         "NA"
        ],
        [
         "451",
         "Luces: doble haz",
         "33",
         "NA"
        ],
        [
         "452",
         "Luces: resistentes al agua",
         "33",
         "NA"
        ],
        [
         "453",
         "Pantalones cortos de deporte para hombre, M",
         "22",
         "Black"
        ],
        [
         "454",
         "Pantalones cortos de deporte para hombre, G",
         "22",
         "Black"
        ],
        [
         "455",
         "Pantalones cortos de deporte para hombre, SG",
         "22",
         "Black"
        ],
        [
         "456",
         "Mallas para mujer, P",
         "24",
         "Black"
        ],
        [
         "457",
         "Mallas para mujer, M",
         "24",
         "Black"
        ],
        [
         "458",
         "Mallas para mujer, G",
         "24",
         "Black"
        ],
        [
         "468",
         "Guantes completos, P",
         "20",
         "Black"
        ],
        [
         "469",
         "Guantes completos, M",
         "20",
         "Black"
        ],
        [
         "470",
         "Guantes completos, G",
         "20",
         "Black"
        ],
        [
         "471",
         "Camiseta cl�sica, P",
         "25",
         "Blue"
        ],
        [
         "472",
         "Camiseta cl�sica, M",
         "25",
         "Blue"
        ],
        [
         "473",
         "Camiseta cl�sica, G",
         "25",
         "Blue"
        ],
        [
         "478",
         "Portabotellas de monta�a",
         "28",
         "NA"
        ],
        [
         "479",
         "Portabotellas de carretera",
         "28",
         "NA"
        ],
        [
         "481",
         "Calcetines para carreras, M",
         "23",
         "White"
        ],
        [
         "482",
         "Calcetines para carreras, G",
         "23",
         "White"
        ],
        [
         "484",
         "Lavado de bicicletas: disolvente",
         "29",
         "NA"
        ],
        [
         "485",
         "Conjunto de guardabarros: monta�a",
         "30",
         "NA"
        ],
        [
         "486",
         "Soporte multiusos para bicicletas",
         "27",
         "NA"
        ],
        [
         "488",
         "Jersey cl�sico de manga corta, P",
         "21",
         "Yellow"
        ],
        [
         "489",
         "Jersey cl�sico de manga corta, M",
         "21",
         "Yellow"
        ],
        [
         "490",
         "Jersey cl�sico de manga corta, G",
         "21",
         "Yellow"
        ],
        [
         "491",
         "Jersey cl�sico de manga corta, SG",
         "21",
         "Yellow"
        ],
        [
         "492",
         "Cuadro de paseo GA: amarillo, 60",
         "16",
         "Yellow"
        ],
        [
         "493",
         "Cuadro de paseo GB: amarillo, 62",
         "16",
         "Yellow"
        ],
        [
         "494",
         "Cuadro de paseo GA: amarillo, 46",
         "16",
         "Yellow"
        ],
        [
         "495",
         "Cuadro de paseo GA: amarillo, 50",
         "16",
         "Yellow"
        ],
        [
         "496",
         "Cuadro de paseo GA: amarillo, 54",
         "16",
         "Yellow"
        ],
        [
         "497",
         "Cuadro de paseo GA: azul, 46",
         "16",
         "Blue"
        ],
        [
         "498",
         "Cuadro de paseo GA: azul, 50",
         "16",
         "Blue"
        ],
        [
         "499",
         "Cuadro de paseo GA: azul, 54",
         "16",
         "Blue"
        ],
        [
         "500",
         "Cuadro de paseo GA: azul, 60",
         "16",
         "Blue"
        ],
        [
         "501",
         "Desviador trasero",
         "9",
         "Silver"
        ],
        [
         "502",
         "Cuadro de paseo GB: azul, 50",
         "16",
         "Blue"
        ],
        [
         "503",
         "Cuadro de paseo GB: azul, 54",
         "16",
         "Blue"
        ],
        [
         "504",
         "Cuadro de paseo GB: azul, 58",
         "16",
         "Blue"
        ],
        [
         "505",
         "Cuadro de paseo GB: azul, 62",
         "16",
         "Blue"
        ],
        [
         "506",
         "Cuadro de paseo GB: amarillo, 44",
         "16",
         "Yellow"
        ],
        [
         "507",
         "Cuadro de paseo GB: amarillo, 50",
         "16",
         "Yellow"
        ],
        [
         "508",
         "Cuadro de paseo GB: amarillo, 54",
         "16",
         "Yellow"
        ],
        [
         "509",
         "Cuadro de paseo GB: amarillo, 58",
         "16",
         "Yellow"
        ],
        [
         "510",
         "Cuadro de paseo GB: azul, 44",
         "16",
         "Blue"
        ],
        [
         "514",
         "Frenos traseros",
         "6",
         "Silver"
        ],
        [
         "518",
         "Sill�n/asiento de carretera GB",
         "15",
         "NA"
        ],
        [
         "519",
         "Sill�n/asiento de carretera GM",
         "15",
         "NA"
        ],
        [
         "520",
         "Sill�n/asiento de carretera GA",
         "15",
         "NA"
        ],
        [
         "521",
         "Sill�n/asiento de paseo GB",
         "15",
         "NA"
        ],
        [
         "522",
         "Sill�n/asiento de paseo GM",
         "15",
         "NA"
        ],
        [
         "523",
         "Sill�n/asiento de paseo GA",
         "15",
         "NA"
        ],
        [
         "528",
         "Cubierta para c�mara de monta�a",
         "37",
         "NA"
        ],
        [
         "529",
         "Cubierta para c�mara de carretera",
         "37",
         "NA"
        ],
        [
         "530",
         "Cubierta para c�mara de paseo",
         "37",
         "NA"
        ],
        [
         "535",
         "Cubierta de monta�a GB",
         "37",
         "NA"
        ],
        [
         "536",
         "Cubierta de monta�a GM",
         "37",
         "NA"
        ],
        [
         "537",
         "Cubierta de monta�a GA",
         "37",
         "NA"
        ],
        [
         "538",
         "Cubierta de carretera GB",
         "37",
         "NA"
        ],
        [
         "539",
         "Cubierta de carretera GM",
         "37",
         "NA"
        ],
        [
         "540",
         "Cubierta de carretera GA",
         "37",
         "NA"
        ],
        [
         "541",
         "Cubierta de paseo",
         "37",
         "NA"
        ],
        [
         "542",
         "Pedal de monta�a GB",
         "13",
         "Silver/Black"
        ],
        [
         "543",
         "Pedal de monta�a GM",
         "13",
         "Silver/Black"
        ],
        [
         "544",
         "Pedal de monta�a GA",
         "13",
         "Silver/Black"
        ],
        [
         "545",
         "Pedal de carretera GB",
         "13",
         "Silver/Black"
        ],
        [
         "546",
         "Pedal de carretera GM",
         "13",
         "Silver/Black"
        ],
        [
         "547",
         "Pedal de carretera GA",
         "13",
         "Silver/Black"
        ],
        [
         "548",
         "Pedal de paseo",
         "13",
         "Silver/Black"
        ],
        [
         "552",
         "Desviador delantero",
         "9",
         "Silver"
        ],
        [
         "553",
         "Manillar de paseo GB",
         "4",
         "NA"
        ],
        [
         "554",
         "Manillar de paseo GA",
         "4",
         "NA"
        ],
        [
         "555",
         "Frenos delanteros",
         "6",
         "Silver"
        ],
        [
         "556",
         "Bielas GB",
         "8",
         "Black"
        ],
        [
         "557",
         "Bielas GM",
         "8",
         "Black"
        ],
        [
         "558",
         "Bielas GA",
         "8",
         "Black"
        ],
        [
         "559",
         "Cadena",
         "7",
         "Silver"
        ],
        [
         "560",
         "Paseo: 2000, azul, 60",
         "3",
         "Blue"
        ],
        [
         "561",
         "Paseo: 1000, amarilla, 46",
         "3",
         "Yellow"
        ],
        [
         "562",
         "Paseo: 1000, amarilla, 50",
         "3",
         "Yellow"
        ],
        [
         "563",
         "Paseo: 1000, amarilla, 54",
         "3",
         "Yellow"
        ],
        [
         "564",
         "Paseo: 1000, amarilla, 60",
         "3",
         "Yellow"
        ],
        [
         "565",
         "Paseo: 3000, azul, 54",
         "3",
         "Blue"
        ],
        [
         "566",
         "Paseo: 3000, azul, 58",
         "3",
         "Blue"
        ],
        [
         "567",
         "Paseo: 3000, azul, 62",
         "3",
         "Blue"
        ],
        [
         "568",
         "Paseo: 3000, amarilla, 44",
         "3",
         "Yellow"
        ],
        [
         "569",
         "Paseo: 3000, amarilla, 50",
         "3",
         "Yellow"
        ],
        [
         "570",
         "Paseo: 3000, amarilla, 54",
         "3",
         "Yellow"
        ],
        [
         "571",
         "Paseo: 3000, amarilla, 58",
         "3",
         "Yellow"
        ],
        [
         "572",
         "Paseo: 3000, amarilla, 62",
         "3",
         "Yellow"
        ],
        [
         "573",
         "Paseo: 1000, azul, 46",
         "3",
         "Blue"
        ],
        [
         "574",
         "Paseo: 1000, azul, 50",
         "3",
         "Blue"
        ],
        [
         "575",
         "Paseo: 1000, azul, 54",
         "3",
         "Blue"
        ],
        [
         "576",
         "Paseo: 1000, azul, 60",
         "3",
         "Blue"
        ],
        [
         "577",
         "Paseo: 2000, azul, 46",
         "3",
         "Blue"
        ],
        [
         "578",
         "Paseo: 2000, azul, 50",
         "3",
         "Blue"
        ],
        [
         "579",
         "Paseo: 2000, azul, 54",
         "3",
         "Blue"
        ],
        [
         "580",
         "Carretera: 350 para mujer, amarilla, 40",
         "2",
         "Yellow"
        ],
        [
         "581",
         "Carretera: 350 para mujer, amarilla, 42",
         "2",
         "Yellow"
        ],
        [
         "582",
         "Carretera: 350 para mujer, amarilla, 44",
         "2",
         "Yellow"
        ],
        [
         "583",
         "Carretera: 350 para mujer, amarilla, 48",
         "2",
         "Yellow"
        ],
        [
         "584",
         "Carretera: 750, negra, 58",
         "2",
         "Black"
        ],
        [
         "585",
         "Paseo: 3000, azul, 44",
         "3",
         "Blue"
        ],
        [
         "586",
         "Paseo: 3000, azul, 50",
         "3",
         "Blue"
        ],
        [
         "587",
         "Monta�a: 400 para mujer, plateada, 38",
         "1",
         "Silver"
        ],
        [
         "588",
         "Monta�a: 400 para mujer, plateada, 40",
         "1",
         "Silver"
        ],
        [
         "589",
         "Monta�a: 400 para mujer, plateada, 42",
         "1",
         "Silver"
        ],
        [
         "590",
         "Monta�a: 400 para mujer, plateada, 46",
         "1",
         "Silver"
        ],
        [
         "591",
         "Monta�a: 500, plateada, 40",
         "1",
         "Silver"
        ],
        [
         "592",
         "Monta�a: 500, plateada, 42",
         "1",
         "Silver"
        ],
        [
         "593",
         "Monta�a: 500, plateada, 44",
         "1",
         "Silver"
        ],
        [
         "594",
         "Monta�a: 500, plateada, 48",
         "1",
         "Silver"
        ],
        [
         "595",
         "Monta�a: 500, plateada, 52",
         "1",
         "Silver"
        ],
        [
         "596",
         "Monta�a: 500, negra, 40",
         "1",
         "Black"
        ],
        [
         "597",
         "Monta�a: 500, negra, 42",
         "1",
         "Black"
        ],
        [
         "598",
         "Monta�a: 500, negra, 44",
         "1",
         "Black"
        ],
        [
         "599",
         "Monta�a: 500, negra, 48",
         "1",
         "Black"
        ],
        [
         "600",
         "Monta�a: 500, negra, 52",
         "1",
         "Black"
        ],
        [
         "601",
         "Eje de pedalier GB",
         "5",
         "NA"
        ],
        [
         "602",
         "Eje de pedalier GM",
         "5",
         "NA"
        ],
        [
         "603",
         "Eje de pedalier GA",
         "5",
         "NA"
        ],
        [
         "604",
         "Carretera: 750, negra, 44",
         "2",
         "Black"
        ],
        [
         "605",
         "Carretera: 750, negra, 48",
         "2",
         "Black"
        ],
        [
         "606",
         "Carretera: 750, negra, 52",
         "2",
         "Black"
        ]
       ],
       "datasetInfos": [],
       "dbfsResultPath": null,
       "isJsonSchema": true,
       "metadata": {
        "dataframeName": "_sqldf",
        "executionCount": 5
       },
       "overflow": false,
       "plotOptions": {
        "customPlotOptions": {},
        "displayType": "table",
        "pivotAggregation": null,
        "pivotColumns": null,
        "xColumns": null,
        "yColumns": null
       },
       "removedWidgets": [],
       "schema": [
        {
         "metadata": "{}",
         "name": "Cod_Producto",
         "type": "\"string\""
        },
        {
         "metadata": "{}",
         "name": "Nombre",
         "type": "\"string\""
        },
        {
         "metadata": "{}",
         "name": "Cod_SubCategoria",
         "type": "\"string\""
        },
        {
         "metadata": "{}",
         "name": "Color",
         "type": "\"string\""
        }
       ],
       "type": "table"
      }
     },
     "output_type": "display_data"
    }
   ],
   "source": [
    "%sql\n",
    "\n",
    "SELECT * FROM Producto"
   ]
  },
  {
   "cell_type": "code",
   "execution_count": 0,
   "metadata": {
    "application/vnd.databricks.v1+cell": {
     "cellMetadata": {
      "byteLimit": 2048000,
      "rowLimit": 10000
     },
     "inputWidgets": {},
     "nuid": "f5e8298f-8849-4dc1-89e8-812d4ae75432",
     "showTitle": false,
     "title": ""
    }
   },
   "outputs": [],
   "source": [
    "dfProd=spark.table(\"Producto\")\n",
    "dfProd.write.mode(\"overwrite\").parquet(\"/mnt/proyectofinal/capaplata/Producto.parquet\")"
   ]
  },
  {
   "cell_type": "code",
   "execution_count": 0,
   "metadata": {
    "application/vnd.databricks.v1+cell": {
     "cellMetadata": {
      "byteLimit": 2048000,
      "rowLimit": 10000
     },
     "inputWidgets": {},
     "nuid": "d1dd8e6c-a0ff-48d4-af82-433d2b288443",
     "showTitle": false,
     "title": ""
    }
   },
   "outputs": [
    {
     "output_type": "display_data",
     "data": {
      "text/html": [
       "<style scoped>\n",
       "  .ansiout {\n",
       "    display: block;\n",
       "    unicode-bidi: embed;\n",
       "    white-space: pre-wrap;\n",
       "    word-wrap: break-word;\n",
       "    word-break: break-all;\n",
       "    font-family: \"Menlo\", \"Monaco\", \"Consolas\", \"Ubuntu Mono\", \"Source Code Pro\", monospace;\n",
       "    font-size: 13px;\n",
       "    color: #555;\n",
       "    margin-left: 4px;\n",
       "    line-height: 19px;\n",
       "  }\n",
       "</style>\n",
       "<div class=\"ansiout\">Cod_Categoria,Nombre\r\n",
       "1,Bicicleta\r\n",
       "2,Componente\r\n",
       "3,Prenda\r\n",
       "4,Accesorio\r\n",
       "\n",
       "</div>"
      ]
     },
     "metadata": {
      "application/vnd.databricks.v1+output": {
       "addedWidgets": {},
       "arguments": {},
       "data": "<div class=\"ansiout\">Cod_Categoria,Nombre\r\n1,Bicicleta\r\n2,Componente\r\n3,Prenda\r\n4,Accesorio\r\n\n</div>",
       "datasetInfos": [],
       "metadata": {
        "isDbfsCommandResult": false
       },
       "removedWidgets": [],
       "type": "html"
      }
     },
     "output_type": "display_data"
    }
   ],
   "source": [
    "%fs head /mnt/proyectofinal/capabronce/Categoria.csv"
   ]
  },
  {
   "cell_type": "code",
   "execution_count": 0,
   "metadata": {
    "application/vnd.databricks.v1+cell": {
     "cellMetadata": {
      "byteLimit": 2048000,
      "implicitDf": true,
      "rowLimit": 10000
     },
     "inputWidgets": {},
     "nuid": "4310c415-227d-4d49-ab6d-526ec07dc9ff",
     "showTitle": false,
     "title": ""
    }
   },
   "outputs": [
    {
     "output_type": "display_data",
     "data": {
      "text/html": [
       "<style scoped>\n",
       "  .table-result-container {\n",
       "    max-height: 300px;\n",
       "    overflow: auto;\n",
       "  }\n",
       "  table, th, td {\n",
       "    border: 1px solid black;\n",
       "    border-collapse: collapse;\n",
       "  }\n",
       "  th, td {\n",
       "    padding: 5px;\n",
       "  }\n",
       "  th {\n",
       "    text-align: left;\n",
       "  }\n",
       "</style><div class='table-result-container'><table class='table-result'><thead style='background-color: white'><tr></tr></thead><tbody></tbody></table></div>"
      ]
     },
     "metadata": {
      "application/vnd.databricks.v1+output": {
       "addedWidgets": {},
       "aggData": [],
       "aggError": "",
       "aggOverflow": false,
       "aggSchema": [],
       "aggSeriesLimitReached": false,
       "aggType": "",
       "arguments": {},
       "columnCustomDisplayInfos": {},
       "data": [],
       "datasetInfos": [],
       "dbfsResultPath": null,
       "isJsonSchema": true,
       "metadata": {
        "dataframeName": null
       },
       "overflow": false,
       "plotOptions": {
        "customPlotOptions": {},
        "displayType": "table",
        "pivotAggregation": null,
        "pivotColumns": null,
        "xColumns": null,
        "yColumns": null
       },
       "removedWidgets": [],
       "schema": [],
       "type": "table"
      }
     },
     "output_type": "display_data"
    }
   ],
   "source": [
    "%sql\n",
    "DROP TABLE IF EXISTS Categoria;\n",
    "\n",
    "CREATE TABLE Categoria\n",
    "(Cod_Categoria STRING,\n",
    "Nombre STRING)\n",
    "USING CSV\n",
    "OPTIONS (header \"true\",inferSchema \"true\", delimiter \"|\")\n",
    "LOCATION \"/mnt/proyectofinal/capabronce/Categoria.csv\""
   ]
  },
  {
   "cell_type": "code",
   "execution_count": 0,
   "metadata": {
    "application/vnd.databricks.v1+cell": {
     "cellMetadata": {
      "byteLimit": 2048000,
      "rowLimit": 10000
     },
     "inputWidgets": {},
     "nuid": "006371cf-42b5-408a-8ad7-658467a2597b",
     "showTitle": false,
     "title": ""
    }
   },
   "outputs": [],
   "source": [
    "dfProd=spark.table(\"Categoria\")\n",
    "dfProd.write.mode(\"overwrite\").parquet(\"/mnt/proyectofinal/capaplata/Categoria.parquet\")"
   ]
  },
  {
   "cell_type": "code",
   "execution_count": 0,
   "metadata": {
    "application/vnd.databricks.v1+cell": {
     "cellMetadata": {
      "byteLimit": 2048000,
      "rowLimit": 10000
     },
     "inputWidgets": {},
     "nuid": "7ebc46da-e5ad-42d4-b855-3c38c8ba8515",
     "showTitle": false,
     "title": ""
    }
   },
   "outputs": [
    {
     "output_type": "display_data",
     "data": {
      "text/html": [
       "<style scoped>\n",
       "  .ansiout {\n",
       "    display: block;\n",
       "    unicode-bidi: embed;\n",
       "    white-space: pre-wrap;\n",
       "    word-wrap: break-word;\n",
       "    word-break: break-all;\n",
       "    font-family: \"Menlo\", \"Monaco\", \"Consolas\", \"Ubuntu Mono\", \"Source Code Pro\", monospace;\n",
       "    font-size: 13px;\n",
       "    color: #555;\n",
       "    margin-left: 4px;\n",
       "    line-height: 19px;\n",
       "  }\n",
       "</style>\n",
       "<div class=\"ansiout\">Cod_SubCategoria,Nombre,Cod_Categoria\r\n",
       "1,Bicicleta de monta�a,1\r\n",
       "2,Bicicleta de carretera,1\r\n",
       "3,Bicicleta de paseo,1\r\n",
       "4,Barra,2\r\n",
       "5,Eje de pedalier,2\r\n",
       "6,Frenos,2\r\n",
       "7,Cadena,2\r\n",
       "8,Bielas,2\r\n",
       "9,Desviador,2\r\n",
       "10,Horquilla,2\r\n",
       "11,Direcci�n,2\r\n",
       "12,Cuadro de monta�a,2\r\n",
       "13,Pedal,2\r\n",
       "14,Cuadro de carretera,2\r\n",
       "15,Sill�n,2\r\n",
       "16,Cuadro de paseo,2\r\n",
       "17,Rueda,2\r\n",
       "18,Culote corto,3\r\n",
       "19,Gorra,3\r\n",
       "20,Guantes,3\r\n",
       "21,Jersey,3\r\n",
       "22,Pantalones cortos,3\r\n",
       "23,Calcetines,3\r\n",
       "24,Mallas,3\r\n",
       "25,Camiseta,3\r\n",
       "26,Portabicicletas,4\r\n",
       "27,Soporte para bicicletas,4\r\n",
       "28,Portabotellas y botella,4\r\n",
       "29,Limpiador,4\r\n",
       "30,Guardabarros,4\r\n",
       "31,Casco,4\r\n",
       "32,Sistema de hidrataci�n,4\r\n",
       "33,Luz,4\r\n",
       "34,Candado,4\r\n",
       "35,Cesta,4\r\n",
       "36,Bomba,4\r\n",
       "37,Cubierta y c�mara,4\r\n",
       "\n",
       "</div>"
      ]
     },
     "metadata": {
      "application/vnd.databricks.v1+output": {
       "addedWidgets": {},
       "arguments": {},
       "data": "<div class=\"ansiout\">Cod_SubCategoria,Nombre,Cod_Categoria\r\n1,Bicicleta de monta�a,1\r\n2,Bicicleta de carretera,1\r\n3,Bicicleta de paseo,1\r\n4,Barra,2\r\n5,Eje de pedalier,2\r\n6,Frenos,2\r\n7,Cadena,2\r\n8,Bielas,2\r\n9,Desviador,2\r\n10,Horquilla,2\r\n11,Direcci�n,2\r\n12,Cuadro de monta�a,2\r\n13,Pedal,2\r\n14,Cuadro de carretera,2\r\n15,Sill�n,2\r\n16,Cuadro de paseo,2\r\n17,Rueda,2\r\n18,Culote corto,3\r\n19,Gorra,3\r\n20,Guantes,3\r\n21,Jersey,3\r\n22,Pantalones cortos,3\r\n23,Calcetines,3\r\n24,Mallas,3\r\n25,Camiseta,3\r\n26,Portabicicletas,4\r\n27,Soporte para bicicletas,4\r\n28,Portabotellas y botella,4\r\n29,Limpiador,4\r\n30,Guardabarros,4\r\n31,Casco,4\r\n32,Sistema de hidrataci�n,4\r\n33,Luz,4\r\n34,Candado,4\r\n35,Cesta,4\r\n36,Bomba,4\r\n37,Cubierta y c�mara,4\r\n\n</div>",
       "datasetInfos": [],
       "metadata": {
        "isDbfsCommandResult": false
       },
       "removedWidgets": [],
       "type": "html"
      }
     },
     "output_type": "display_data"
    }
   ],
   "source": [
    "%fs head /mnt/proyectofinal/capabronce/SubCategoria.csv"
   ]
  },
  {
   "cell_type": "code",
   "execution_count": 0,
   "metadata": {
    "application/vnd.databricks.v1+cell": {
     "cellMetadata": {
      "byteLimit": 2048000,
      "implicitDf": true,
      "rowLimit": 10000
     },
     "inputWidgets": {},
     "nuid": "580d12e1-a48d-4244-9317-210ba4f31888",
     "showTitle": false,
     "title": ""
    }
   },
   "outputs": [
    {
     "output_type": "display_data",
     "data": {
      "text/html": [
       "<style scoped>\n",
       "  .table-result-container {\n",
       "    max-height: 300px;\n",
       "    overflow: auto;\n",
       "  }\n",
       "  table, th, td {\n",
       "    border: 1px solid black;\n",
       "    border-collapse: collapse;\n",
       "  }\n",
       "  th, td {\n",
       "    padding: 5px;\n",
       "  }\n",
       "  th {\n",
       "    text-align: left;\n",
       "  }\n",
       "</style><div class='table-result-container'><table class='table-result'><thead style='background-color: white'><tr></tr></thead><tbody></tbody></table></div>"
      ]
     },
     "metadata": {
      "application/vnd.databricks.v1+output": {
       "addedWidgets": {},
       "aggData": [],
       "aggError": "",
       "aggOverflow": false,
       "aggSchema": [],
       "aggSeriesLimitReached": false,
       "aggType": "",
       "arguments": {},
       "columnCustomDisplayInfos": {},
       "data": [],
       "datasetInfos": [],
       "dbfsResultPath": null,
       "isJsonSchema": true,
       "metadata": {
        "dataframeName": null
       },
       "overflow": false,
       "plotOptions": {
        "customPlotOptions": {},
        "displayType": "table",
        "pivotAggregation": null,
        "pivotColumns": null,
        "xColumns": null,
        "yColumns": null
       },
       "removedWidgets": [],
       "schema": [],
       "type": "table"
      }
     },
     "output_type": "display_data"
    }
   ],
   "source": [
    "%sql\n",
    "DROP TABLE IF EXISTS SubCategoria;\n",
    "\n",
    "CREATE TABLE SubCategoria\n",
    "(Cod_SubCategoria STRING,\n",
    "Nombre STRING,\n",
    "Cod_Categoria STRING)\n",
    "USING CSV\n",
    "OPTIONS (header \"true\",inferSchema \"true\", delimiter \"|\")\n",
    "LOCATION \"/mnt/proyectofinal/capabronce/SubCategoria.csv\""
   ]
  },
  {
   "cell_type": "code",
   "execution_count": 0,
   "metadata": {
    "application/vnd.databricks.v1+cell": {
     "cellMetadata": {
      "byteLimit": 2048000,
      "rowLimit": 10000
     },
     "inputWidgets": {},
     "nuid": "4cc1c9a6-08d1-410a-9f4e-24addba1df28",
     "showTitle": false,
     "title": ""
    }
   },
   "outputs": [],
   "source": [
    "dfProd=spark.table(\"SubCategoria\")\n",
    "dfProd.write.mode(\"overwrite\").parquet(\"/mnt/proyectofinal/capaplata/SubCategoria.parquet\")"
   ]
  },
  {
   "cell_type": "code",
   "execution_count": 0,
   "metadata": {
    "application/vnd.databricks.v1+cell": {
     "cellMetadata": {
      "byteLimit": 2048000,
      "rowLimit": 10000
     },
     "inputWidgets": {},
     "nuid": "865f16a2-70f8-4812-8cf6-843c224759df",
     "showTitle": false,
     "title": ""
    }
   },
   "outputs": [
    {
     "output_type": "stream",
     "name": "stdout",
     "output_type": "stream",
     "text": [
      "/mnt/proyectofinal has been unmounted.\n"
     ]
    },
    {
     "output_type": "execute_result",
     "data": {
      "text/plain": [
       "True"
      ]
     },
     "execution_count": 9,
     "metadata": {},
     "output_type": "execute_result"
    }
   ],
   "source": [
    "dbutils.fs.unmount(\"/mnt/proyectofinal\")"
   ]
  },
  {
   "cell_type": "code",
   "execution_count": 0,
   "metadata": {
    "application/vnd.databricks.v1+cell": {
     "cellMetadata": {
      "byteLimit": 2048000,
      "rowLimit": 10000
     },
     "inputWidgets": {},
     "nuid": "18b03824-9ab0-42be-be01-43245dbc0ead",
     "showTitle": false,
     "title": ""
    }
   },
   "outputs": [],
   "source": []
  },
  {
   "cell_type": "code",
   "execution_count": 0,
   "metadata": {
    "application/vnd.databricks.v1+cell": {
     "cellMetadata": {
      "byteLimit": 2048000,
      "rowLimit": 10000
     },
     "inputWidgets": {},
     "nuid": "d9ec2fbe-3302-4645-a00e-448e009a55a1",
     "showTitle": false,
     "title": ""
    }
   },
   "outputs": [],
   "source": []
  }
 ],
 "metadata": {
  "application/vnd.databricks.v1+notebook": {
   "dashboards": [],
   "language": "python",
   "notebookMetadata": {
    "mostRecentlyExecutedCommandWithImplicitDF": {
     "commandId": 2796841796818746,
     "dataframes": [
      "_sqldf"
     ]
    },
    "pythonIndentUnit": 4
   },
   "notebookName": "transferencia__datos_capa_plata",
   "widgets": {}
  }
 },
 "nbformat": 4,
 "nbformat_minor": 0
}
